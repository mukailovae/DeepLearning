{
 "cells": [
  {
   "cell_type": "markdown",
   "metadata": {},
   "source": [
    "# Project: Identify Customer Segments\n",
    "\n",
    "In this project, you will apply unsupervised learning techniques to identify segments of the population that form the core customer base for a mail-order sales company in Germany. These segments can then be used to direct marketing campaigns towards audiences that will have the highest expected rate of returns. The data that you will use has been provided by our partners at Bertelsmann Arvato Analytics, and represents a real-life data science task.\n",
    "\n",
    "This notebook will help you complete this task by providing a framework within which you will perform your analysis steps. In each step of the project, you will see some text describing the subtask that you will perform, followed by one or more code cells for you to complete your work. **Feel free to add additional code and markdown cells as you go along so that you can explore everything in precise chunks.** The code cells provided in the base template will outline only the major tasks, and will usually not be enough to cover all of the minor tasks that comprise it.\n",
    "\n",
    "It should be noted that while there will be precise guidelines on how you should handle certain tasks in the project, there will also be places where an exact specification is not provided. **There will be times in the project where you will need to make and justify your own decisions on how to treat the data.** These are places where there may not be only one way to handle the data. In real-life tasks, there may be many valid ways to approach an analysis task. One of the most important things you can do is clearly document your approach so that other scientists can understand the decisions you've made.\n",
    "\n",
    "At the end of most sections, there will be a Markdown cell labeled **Discussion**. In these cells, you will report your findings for the completed section, as well as document the decisions that you made in your approach to each subtask. **Your project will be evaluated not just on the code used to complete the tasks outlined, but also your communication about your observations and conclusions at each stage.**"
   ]
  },
  {
   "cell_type": "code",
   "execution_count": 1,
   "metadata": {},
   "outputs": [
    {
     "data": {
      "text/plain": [
       "'\\nImport note: The classroom currently uses sklearn version 0.19.\\nIf you need to use an imputer, it is available in sklearn.preprocessing.Imputer,\\ninstead of sklearn.impute as in newer versions of sklearn.\\n'"
      ]
     },
     "execution_count": 1,
     "metadata": {},
     "output_type": "execute_result"
    }
   ],
   "source": [
    "# import libraries here; add more as necessary\n",
    "import numpy as np\n",
    "import pandas as pd\n",
    "import matplotlib.pyplot as plt\n",
    "import seaborn as sns\n",
    "from sklearn.decomposition import PCA\n",
    "from sklearn.preprocessing import StandardScaler\n",
    "\n",
    "# magic word for producing visualizations in notebook\n",
    "%matplotlib inline\n",
    "\n",
    "'''\n",
    "Import note: The classroom currently uses sklearn version 0.19.\n",
    "If you need to use an imputer, it is available in sklearn.preprocessing.Imputer,\n",
    "instead of sklearn.impute as in newer versions of sklearn.\n",
    "'''"
   ]
  },
  {
   "cell_type": "markdown",
   "metadata": {},
   "source": [
    "### Step 0: Load the Data\n",
    "\n",
    "There are four files associated with this project (not including this one):\n",
    "\n",
    "- `Udacity_AZDIAS_Subset.csv`: Demographics data for the general population of Germany; 891211 persons (rows) x 85 features (columns).\n",
    "- `Udacity_CUSTOMERS_Subset.csv`: Demographics data for customers of a mail-order company; 191652 persons (rows) x 85 features (columns).\n",
    "- `Data_Dictionary.md`: Detailed information file about the features in the provided datasets.\n",
    "- `AZDIAS_Feature_Summary.csv`: Summary of feature attributes for demographics data; 85 features (rows) x 4 columns\n",
    "\n",
    "Each row of the demographics files represents a single person, but also includes information outside of individuals, including information about their household, building, and neighborhood. You will use this information to cluster the general population into groups with similar demographic properties. Then, you will see how the people in the customers dataset fit into those created clusters. The hope here is that certain clusters are over-represented in the customers data, as compared to the general population; those over-represented clusters will be assumed to be part of the core userbase. This information can then be used for further applications, such as targeting for a marketing campaign.\n",
    "\n",
    "To start off with, load in the demographics data for the general population into a pandas DataFrame, and do the same for the feature attributes summary. Note for all of the `.csv` data files in this project: they're semicolon (`;`) delimited, so you'll need an additional argument in your [`read_csv()`](https://pandas.pydata.org/pandas-docs/stable/generated/pandas.read_csv.html) call to read in the data properly. Also, considering the size of the main dataset, it may take some time for it to load completely.\n",
    "\n",
    "Once the dataset is loaded, it's recommended that you take a little bit of time just browsing the general structure of the dataset and feature summary file. You'll be getting deep into the innards of the cleaning in the first major step of the project, so gaining some general familiarity can help you get your bearings."
   ]
  },
  {
   "cell_type": "code",
   "execution_count": 2,
   "metadata": {},
   "outputs": [],
   "source": [
    "# Load in the general demographics data.\n",
    "azdias = pd.read_csv('Udacity_AZDIAS_Subset.csv',sep=';')\n",
    "\n"
   ]
  },
  {
   "cell_type": "code",
   "execution_count": 3,
   "metadata": {},
   "outputs": [],
   "source": [
    "# Load in the feature summary file.\n",
    "feat_info = pd.read_csv('AZDIAS_Feature_Summary.csv',sep=';')"
   ]
  },
  {
   "cell_type": "code",
   "execution_count": 4,
   "metadata": {},
   "outputs": [
    {
     "data": {
      "text/plain": [
       "((891221, 85), (85, 4))"
      ]
     },
     "execution_count": 4,
     "metadata": {},
     "output_type": "execute_result"
    }
   ],
   "source": [
    "# Check the structure of the data after it's loaded (e.g. print the number of\n",
    "# rows and columns, print the first few rows).\n",
    "azdias.shape,feat_info.shape\n"
   ]
  },
  {
   "cell_type": "code",
   "execution_count": 5,
   "metadata": {},
   "outputs": [
    {
     "data": {
      "text/html": [
       "<div>\n",
       "<style scoped>\n",
       "    .dataframe tbody tr th:only-of-type {\n",
       "        vertical-align: middle;\n",
       "    }\n",
       "\n",
       "    .dataframe tbody tr th {\n",
       "        vertical-align: top;\n",
       "    }\n",
       "\n",
       "    .dataframe thead th {\n",
       "        text-align: right;\n",
       "    }\n",
       "</style>\n",
       "<table border=\"1\" class=\"dataframe\">\n",
       "  <thead>\n",
       "    <tr style=\"text-align: right;\">\n",
       "      <th></th>\n",
       "      <th>AGER_TYP</th>\n",
       "      <th>ALTERSKATEGORIE_GROB</th>\n",
       "      <th>ANREDE_KZ</th>\n",
       "      <th>CJT_GESAMTTYP</th>\n",
       "      <th>FINANZ_MINIMALIST</th>\n",
       "      <th>FINANZ_SPARER</th>\n",
       "      <th>FINANZ_VORSORGER</th>\n",
       "      <th>FINANZ_ANLEGER</th>\n",
       "      <th>FINANZ_UNAUFFAELLIGER</th>\n",
       "      <th>FINANZ_HAUSBAUER</th>\n",
       "      <th>...</th>\n",
       "      <th>PLZ8_ANTG1</th>\n",
       "      <th>PLZ8_ANTG2</th>\n",
       "      <th>PLZ8_ANTG3</th>\n",
       "      <th>PLZ8_ANTG4</th>\n",
       "      <th>PLZ8_BAUMAX</th>\n",
       "      <th>PLZ8_HHZ</th>\n",
       "      <th>PLZ8_GBZ</th>\n",
       "      <th>ARBEIT</th>\n",
       "      <th>ORTSGR_KLS9</th>\n",
       "      <th>RELAT_AB</th>\n",
       "    </tr>\n",
       "  </thead>\n",
       "  <tbody>\n",
       "    <tr>\n",
       "      <th>0</th>\n",
       "      <td>-1</td>\n",
       "      <td>2</td>\n",
       "      <td>1</td>\n",
       "      <td>2.0</td>\n",
       "      <td>3</td>\n",
       "      <td>4</td>\n",
       "      <td>3</td>\n",
       "      <td>5</td>\n",
       "      <td>5</td>\n",
       "      <td>3</td>\n",
       "      <td>...</td>\n",
       "      <td>NaN</td>\n",
       "      <td>NaN</td>\n",
       "      <td>NaN</td>\n",
       "      <td>NaN</td>\n",
       "      <td>NaN</td>\n",
       "      <td>NaN</td>\n",
       "      <td>NaN</td>\n",
       "      <td>NaN</td>\n",
       "      <td>NaN</td>\n",
       "      <td>NaN</td>\n",
       "    </tr>\n",
       "    <tr>\n",
       "      <th>1</th>\n",
       "      <td>-1</td>\n",
       "      <td>1</td>\n",
       "      <td>2</td>\n",
       "      <td>5.0</td>\n",
       "      <td>1</td>\n",
       "      <td>5</td>\n",
       "      <td>2</td>\n",
       "      <td>5</td>\n",
       "      <td>4</td>\n",
       "      <td>5</td>\n",
       "      <td>...</td>\n",
       "      <td>2.0</td>\n",
       "      <td>3.0</td>\n",
       "      <td>2.0</td>\n",
       "      <td>1.0</td>\n",
       "      <td>1.0</td>\n",
       "      <td>5.0</td>\n",
       "      <td>4.0</td>\n",
       "      <td>3.0</td>\n",
       "      <td>5.0</td>\n",
       "      <td>4.0</td>\n",
       "    </tr>\n",
       "    <tr>\n",
       "      <th>2</th>\n",
       "      <td>-1</td>\n",
       "      <td>3</td>\n",
       "      <td>2</td>\n",
       "      <td>3.0</td>\n",
       "      <td>1</td>\n",
       "      <td>4</td>\n",
       "      <td>1</td>\n",
       "      <td>2</td>\n",
       "      <td>3</td>\n",
       "      <td>5</td>\n",
       "      <td>...</td>\n",
       "      <td>3.0</td>\n",
       "      <td>3.0</td>\n",
       "      <td>1.0</td>\n",
       "      <td>0.0</td>\n",
       "      <td>1.0</td>\n",
       "      <td>4.0</td>\n",
       "      <td>4.0</td>\n",
       "      <td>3.0</td>\n",
       "      <td>5.0</td>\n",
       "      <td>2.0</td>\n",
       "    </tr>\n",
       "    <tr>\n",
       "      <th>3</th>\n",
       "      <td>2</td>\n",
       "      <td>4</td>\n",
       "      <td>2</td>\n",
       "      <td>2.0</td>\n",
       "      <td>4</td>\n",
       "      <td>2</td>\n",
       "      <td>5</td>\n",
       "      <td>2</td>\n",
       "      <td>1</td>\n",
       "      <td>2</td>\n",
       "      <td>...</td>\n",
       "      <td>2.0</td>\n",
       "      <td>2.0</td>\n",
       "      <td>2.0</td>\n",
       "      <td>0.0</td>\n",
       "      <td>1.0</td>\n",
       "      <td>3.0</td>\n",
       "      <td>4.0</td>\n",
       "      <td>2.0</td>\n",
       "      <td>3.0</td>\n",
       "      <td>3.0</td>\n",
       "    </tr>\n",
       "    <tr>\n",
       "      <th>4</th>\n",
       "      <td>-1</td>\n",
       "      <td>3</td>\n",
       "      <td>1</td>\n",
       "      <td>5.0</td>\n",
       "      <td>4</td>\n",
       "      <td>3</td>\n",
       "      <td>4</td>\n",
       "      <td>1</td>\n",
       "      <td>3</td>\n",
       "      <td>2</td>\n",
       "      <td>...</td>\n",
       "      <td>2.0</td>\n",
       "      <td>4.0</td>\n",
       "      <td>2.0</td>\n",
       "      <td>1.0</td>\n",
       "      <td>2.0</td>\n",
       "      <td>3.0</td>\n",
       "      <td>3.0</td>\n",
       "      <td>4.0</td>\n",
       "      <td>6.0</td>\n",
       "      <td>5.0</td>\n",
       "    </tr>\n",
       "  </tbody>\n",
       "</table>\n",
       "<p>5 rows × 85 columns</p>\n",
       "</div>"
      ],
      "text/plain": [
       "   AGER_TYP  ALTERSKATEGORIE_GROB  ANREDE_KZ  CJT_GESAMTTYP  \\\n",
       "0        -1                     2          1            2.0   \n",
       "1        -1                     1          2            5.0   \n",
       "2        -1                     3          2            3.0   \n",
       "3         2                     4          2            2.0   \n",
       "4        -1                     3          1            5.0   \n",
       "\n",
       "   FINANZ_MINIMALIST  FINANZ_SPARER  FINANZ_VORSORGER  FINANZ_ANLEGER  \\\n",
       "0                  3              4                 3               5   \n",
       "1                  1              5                 2               5   \n",
       "2                  1              4                 1               2   \n",
       "3                  4              2                 5               2   \n",
       "4                  4              3                 4               1   \n",
       "\n",
       "   FINANZ_UNAUFFAELLIGER  FINANZ_HAUSBAUER    ...     PLZ8_ANTG1  PLZ8_ANTG2  \\\n",
       "0                      5                 3    ...            NaN         NaN   \n",
       "1                      4                 5    ...            2.0         3.0   \n",
       "2                      3                 5    ...            3.0         3.0   \n",
       "3                      1                 2    ...            2.0         2.0   \n",
       "4                      3                 2    ...            2.0         4.0   \n",
       "\n",
       "   PLZ8_ANTG3  PLZ8_ANTG4  PLZ8_BAUMAX  PLZ8_HHZ  PLZ8_GBZ  ARBEIT  \\\n",
       "0         NaN         NaN          NaN       NaN       NaN     NaN   \n",
       "1         2.0         1.0          1.0       5.0       4.0     3.0   \n",
       "2         1.0         0.0          1.0       4.0       4.0     3.0   \n",
       "3         2.0         0.0          1.0       3.0       4.0     2.0   \n",
       "4         2.0         1.0          2.0       3.0       3.0     4.0   \n",
       "\n",
       "   ORTSGR_KLS9  RELAT_AB  \n",
       "0          NaN       NaN  \n",
       "1          5.0       4.0  \n",
       "2          5.0       2.0  \n",
       "3          3.0       3.0  \n",
       "4          6.0       5.0  \n",
       "\n",
       "[5 rows x 85 columns]"
      ]
     },
     "execution_count": 5,
     "metadata": {},
     "output_type": "execute_result"
    }
   ],
   "source": [
    "azdias.head()"
   ]
  },
  {
   "cell_type": "code",
   "execution_count": 6,
   "metadata": {},
   "outputs": [
    {
     "name": "stdout",
     "output_type": "stream",
     "text": [
      "<class 'pandas.core.frame.DataFrame'>\n",
      "RangeIndex: 891221 entries, 0 to 891220\n",
      "Data columns (total 85 columns):\n",
      "AGER_TYP                 891221 non-null int64\n",
      "ALTERSKATEGORIE_GROB     891221 non-null int64\n",
      "ANREDE_KZ                891221 non-null int64\n",
      "CJT_GESAMTTYP            886367 non-null float64\n",
      "FINANZ_MINIMALIST        891221 non-null int64\n",
      "FINANZ_SPARER            891221 non-null int64\n",
      "FINANZ_VORSORGER         891221 non-null int64\n",
      "FINANZ_ANLEGER           891221 non-null int64\n",
      "FINANZ_UNAUFFAELLIGER    891221 non-null int64\n",
      "FINANZ_HAUSBAUER         891221 non-null int64\n",
      "FINANZTYP                891221 non-null int64\n",
      "GEBURTSJAHR              891221 non-null int64\n",
      "GFK_URLAUBERTYP          886367 non-null float64\n",
      "GREEN_AVANTGARDE         891221 non-null int64\n",
      "HEALTH_TYP               891221 non-null int64\n",
      "LP_LEBENSPHASE_FEIN      886367 non-null float64\n",
      "LP_LEBENSPHASE_GROB      886367 non-null float64\n",
      "LP_FAMILIE_FEIN          886367 non-null float64\n",
      "LP_FAMILIE_GROB          886367 non-null float64\n",
      "LP_STATUS_FEIN           886367 non-null float64\n",
      "LP_STATUS_GROB           886367 non-null float64\n",
      "NATIONALITAET_KZ         891221 non-null int64\n",
      "PRAEGENDE_JUGENDJAHRE    891221 non-null int64\n",
      "RETOURTYP_BK_S           886367 non-null float64\n",
      "SEMIO_SOZ                891221 non-null int64\n",
      "SEMIO_FAM                891221 non-null int64\n",
      "SEMIO_REL                891221 non-null int64\n",
      "SEMIO_MAT                891221 non-null int64\n",
      "SEMIO_VERT               891221 non-null int64\n",
      "SEMIO_LUST               891221 non-null int64\n",
      "SEMIO_ERL                891221 non-null int64\n",
      "SEMIO_KULT               891221 non-null int64\n",
      "SEMIO_RAT                891221 non-null int64\n",
      "SEMIO_KRIT               891221 non-null int64\n",
      "SEMIO_DOM                891221 non-null int64\n",
      "SEMIO_KAEM               891221 non-null int64\n",
      "SEMIO_PFLICHT            891221 non-null int64\n",
      "SEMIO_TRADV              891221 non-null int64\n",
      "SHOPPER_TYP              891221 non-null int64\n",
      "SOHO_KZ                  817722 non-null float64\n",
      "TITEL_KZ                 817722 non-null float64\n",
      "VERS_TYP                 891221 non-null int64\n",
      "ZABEOTYP                 891221 non-null int64\n",
      "ALTER_HH                 817722 non-null float64\n",
      "ANZ_PERSONEN             817722 non-null float64\n",
      "ANZ_TITEL                817722 non-null float64\n",
      "HH_EINKOMMEN_SCORE       872873 non-null float64\n",
      "KK_KUNDENTYP             306609 non-null float64\n",
      "W_KEIT_KIND_HH           783619 non-null float64\n",
      "WOHNDAUER_2008           817722 non-null float64\n",
      "ANZ_HAUSHALTE_AKTIV      798073 non-null float64\n",
      "ANZ_HH_TITEL             794213 non-null float64\n",
      "GEBAEUDETYP              798073 non-null float64\n",
      "KONSUMNAEHE              817252 non-null float64\n",
      "MIN_GEBAEUDEJAHR         798073 non-null float64\n",
      "OST_WEST_KZ              798073 non-null object\n",
      "WOHNLAGE                 798073 non-null float64\n",
      "CAMEO_DEUG_2015          792242 non-null object\n",
      "CAMEO_DEU_2015           792242 non-null object\n",
      "CAMEO_INTL_2015          792242 non-null object\n",
      "KBA05_ANTG1              757897 non-null float64\n",
      "KBA05_ANTG2              757897 non-null float64\n",
      "KBA05_ANTG3              757897 non-null float64\n",
      "KBA05_ANTG4              757897 non-null float64\n",
      "KBA05_BAUMAX             757897 non-null float64\n",
      "KBA05_GBZ                757897 non-null float64\n",
      "BALLRAUM                 797481 non-null float64\n",
      "EWDICHTE                 797481 non-null float64\n",
      "INNENSTADT               797481 non-null float64\n",
      "GEBAEUDETYP_RASTER       798066 non-null float64\n",
      "KKK                      770025 non-null float64\n",
      "MOBI_REGIO               757897 non-null float64\n",
      "ONLINE_AFFINITAET        886367 non-null float64\n",
      "REGIOTYP                 770025 non-null float64\n",
      "KBA13_ANZAHL_PKW         785421 non-null float64\n",
      "PLZ8_ANTG1               774706 non-null float64\n",
      "PLZ8_ANTG2               774706 non-null float64\n",
      "PLZ8_ANTG3               774706 non-null float64\n",
      "PLZ8_ANTG4               774706 non-null float64\n",
      "PLZ8_BAUMAX              774706 non-null float64\n",
      "PLZ8_HHZ                 774706 non-null float64\n",
      "PLZ8_GBZ                 774706 non-null float64\n",
      "ARBEIT                   794005 non-null float64\n",
      "ORTSGR_KLS9              794005 non-null float64\n",
      "RELAT_AB                 794005 non-null float64\n",
      "dtypes: float64(49), int64(32), object(4)\n",
      "memory usage: 578.0+ MB\n"
     ]
    }
   ],
   "source": [
    "azdias.info()"
   ]
  },
  {
   "cell_type": "code",
   "execution_count": 7,
   "metadata": {},
   "outputs": [
    {
     "data": {
      "text/html": [
       "<div>\n",
       "<style scoped>\n",
       "    .dataframe tbody tr th:only-of-type {\n",
       "        vertical-align: middle;\n",
       "    }\n",
       "\n",
       "    .dataframe tbody tr th {\n",
       "        vertical-align: top;\n",
       "    }\n",
       "\n",
       "    .dataframe thead th {\n",
       "        text-align: right;\n",
       "    }\n",
       "</style>\n",
       "<table border=\"1\" class=\"dataframe\">\n",
       "  <thead>\n",
       "    <tr style=\"text-align: right;\">\n",
       "      <th></th>\n",
       "      <th>attribute</th>\n",
       "      <th>information_level</th>\n",
       "      <th>type</th>\n",
       "      <th>missing_or_unknown</th>\n",
       "    </tr>\n",
       "  </thead>\n",
       "  <tbody>\n",
       "    <tr>\n",
       "      <th>0</th>\n",
       "      <td>AGER_TYP</td>\n",
       "      <td>person</td>\n",
       "      <td>categorical</td>\n",
       "      <td>[-1,0]</td>\n",
       "    </tr>\n",
       "    <tr>\n",
       "      <th>1</th>\n",
       "      <td>ALTERSKATEGORIE_GROB</td>\n",
       "      <td>person</td>\n",
       "      <td>ordinal</td>\n",
       "      <td>[-1,0,9]</td>\n",
       "    </tr>\n",
       "    <tr>\n",
       "      <th>2</th>\n",
       "      <td>ANREDE_KZ</td>\n",
       "      <td>person</td>\n",
       "      <td>categorical</td>\n",
       "      <td>[-1,0]</td>\n",
       "    </tr>\n",
       "    <tr>\n",
       "      <th>3</th>\n",
       "      <td>CJT_GESAMTTYP</td>\n",
       "      <td>person</td>\n",
       "      <td>categorical</td>\n",
       "      <td>[0]</td>\n",
       "    </tr>\n",
       "    <tr>\n",
       "      <th>4</th>\n",
       "      <td>FINANZ_MINIMALIST</td>\n",
       "      <td>person</td>\n",
       "      <td>ordinal</td>\n",
       "      <td>[-1]</td>\n",
       "    </tr>\n",
       "  </tbody>\n",
       "</table>\n",
       "</div>"
      ],
      "text/plain": [
       "              attribute information_level         type missing_or_unknown\n",
       "0              AGER_TYP            person  categorical             [-1,0]\n",
       "1  ALTERSKATEGORIE_GROB            person      ordinal           [-1,0,9]\n",
       "2             ANREDE_KZ            person  categorical             [-1,0]\n",
       "3         CJT_GESAMTTYP            person  categorical                [0]\n",
       "4     FINANZ_MINIMALIST            person      ordinal               [-1]"
      ]
     },
     "execution_count": 7,
     "metadata": {},
     "output_type": "execute_result"
    }
   ],
   "source": [
    "feat_info.head()"
   ]
  },
  {
   "cell_type": "code",
   "execution_count": 8,
   "metadata": {},
   "outputs": [
    {
     "name": "stdout",
     "output_type": "stream",
     "text": [
      "<class 'pandas.core.frame.DataFrame'>\n",
      "RangeIndex: 85 entries, 0 to 84\n",
      "Data columns (total 4 columns):\n",
      "attribute             85 non-null object\n",
      "information_level     85 non-null object\n",
      "type                  85 non-null object\n",
      "missing_or_unknown    85 non-null object\n",
      "dtypes: object(4)\n",
      "memory usage: 2.7+ KB\n"
     ]
    }
   ],
   "source": [
    "feat_info.info()"
   ]
  },
  {
   "cell_type": "markdown",
   "metadata": {},
   "source": [
    "> **Tip**: Add additional cells to keep everything in reasonably-sized chunks! Keyboard shortcut `esc --> a` (press escape to enter command mode, then press the 'A' key) adds a new cell before the active cell, and `esc --> b` adds a new cell after the active cell. If you need to convert an active cell to a markdown cell, use `esc --> m` and to convert to a code cell, use `esc --> y`. \n",
    "\n",
    "## Step 1: Preprocessing\n",
    "\n",
    "### Step 1.1: Assess Missing Data\n",
    "\n",
    "The feature summary file contains a summary of properties for each demographics data column. You will use this file to help you make cleaning decisions during this stage of the project. First of all, you should assess the demographics data in terms of missing data. Pay attention to the following points as you perform your analysis, and take notes on what you observe. Make sure that you fill in the **Discussion** cell with your findings and decisions at the end of each step that has one!\n",
    "\n",
    "#### Step 1.1.1: Convert Missing Value Codes to NaNs\n",
    "The fourth column of the feature attributes summary (loaded in above as `feat_info`) documents the codes from the data dictionary that indicate missing or unknown data. While the file encodes this as a list (e.g. `[-1,0]`), this will get read in as a string object. You'll need to do a little bit of parsing to make use of it to identify and clean the data. Convert data that matches a 'missing' or 'unknown' value code into a numpy NaN value. You might want to see how much data takes on a 'missing' or 'unknown' code, and how much data is naturally missing, as a point of interest.\n",
    "\n",
    "**As one more reminder, you are encouraged to add additional cells to break up your analysis into manageable chunks.**"
   ]
  },
  {
   "cell_type": "code",
   "execution_count": 9,
   "metadata": {},
   "outputs": [],
   "source": [
    "for index in range (feat_info.shape[0]):\n",
    "    missing_or_unknown_data = feat_info.iloc[index]['missing_or_unknown']\n",
    "    #remove ([,])\n",
    "    missing_or_unknown_data = missing_or_unknown_data.strip('[')\n",
    "    missing_or_unknown_data = missing_or_unknown_data.strip(']')\n",
    "    missing_or_unknown_data = missing_or_unknown_data.split(',')\n",
    "    missing_or_unknown_data=[int(value) if (value!='X' and value!='XX' and value!='') else value for value in missing_or_unknown_data]\n",
    "    #replace the missing or unknown data with NaN but in the dataset itself\n",
    "    if missing_or_unknown_data != ['']:\n",
    "        azdias = azdias.replace({feat_info.iloc[index]['attribute']: missing_or_unknown_data}, np.nan)\n"
   ]
  },
  {
   "cell_type": "code",
   "execution_count": 11,
   "metadata": {},
   "outputs": [],
   "source": [
    "for col in azdias.columns:\n",
    "    azdias[col].replace('XX',np.nan,inplace=True)\n",
    "    azdias[col].replace('X',np.nan,inplace=True)"
   ]
  },
  {
   "cell_type": "code",
   "execution_count": 12,
   "metadata": {},
   "outputs": [
    {
     "data": {
      "text/plain": [
       "(array([nan, '8', '4', '2', '6', '1', '9', '5', '7', '3'], dtype=object),\n",
       " array([nan, '8A', '4C', '2A', '6B', '8C', '4A', '2D', '1A', '1E', '9D',\n",
       "        '5C', '8B', '7A', '5D', '9E', '9B', '1B', '3D', '4E', '4B', '3C',\n",
       "        '5A', '7B', '9A', '6D', '6E', '2C', '7C', '9C', '7D', '5E', '1D',\n",
       "        '8D', '6C', '6A', '5B', '4D', '3A', '2B', '7E', '3B', '6F', '5F',\n",
       "        '1C'], dtype=object))"
      ]
     },
     "execution_count": 12,
     "metadata": {},
     "output_type": "execute_result"
    }
   ],
   "source": [
    "#check if 'X' and 'XX' are removed \n",
    "azdias['CAMEO_DEUG_2015'].unique(),azdias['CAMEO_DEU_2015'].unique()"
   ]
  },
  {
   "cell_type": "markdown",
   "metadata": {},
   "source": [
    "#### Step 1.1.2: Assess Missing Data in Each Column\n",
    "\n",
    "How much missing data is present in each column? There are a few columns that are outliers in terms of the proportion of values that are missing. You will want to use matplotlib's [`hist()`](https://matplotlib.org/api/_as_gen/matplotlib.pyplot.hist.html) function to visualize the distribution of missing value counts to find these columns. Identify and document these columns. While some of these columns might have justifications for keeping or re-encoding the data, for this project you should just remove them from the dataframe. (Feel free to make remarks about these outlier columns in the discussion, however!)\n",
    "\n",
    "For the remaining features, are there any patterns in which columns have, or share, missing data?"
   ]
  },
  {
   "cell_type": "code",
   "execution_count": 13,
   "metadata": {},
   "outputs": [
    {
     "data": {
      "image/png": "[encoded data removed]",
      "text/plain": [
       "<matplotlib.figure.Figure at 0x7fd58c3f65f8>"
      ]
     },
     "metadata": {
      "needs_background": "light"
     },
     "output_type": "display_data"
    }
   ],
   "source": [
    "# Perform an assessment of how much missing data there is in each column of the\n",
    "# dataset.\n",
    "\n",
    "mis_values=azdias.isna().sum().to_frame()\n",
    "nan_data=mis_values.values.reshape(mis_values.shape[0]).tolist()\n",
    "labels=mis_values.index.to_series()\n",
    "plt.figure(figsize=(16, 5))\n",
    "plt.xticks(rotation=90)\n",
    "plt.bar(labels,nan_data);\n",
    "     \n"
   ]
  },
  {
   "cell_type": "code",
   "execution_count": 14,
   "metadata": {},
   "outputs": [
    {
     "data": {
      "text/plain": [
       "TITEL_KZ          99.76\n",
       "AGER_TYP          76.96\n",
       "KK_KUNDENTYP      65.60\n",
       "KBA05_BAUMAX      53.47\n",
       "GEBURTSJAHR       44.02\n",
       "ALTER_HH          34.81\n",
       "REGIOTYP          17.74\n",
       "KKK               17.74\n",
       "W_KEIT_KIND_HH    16.61\n",
       "KBA05_ANTG4       14.96\n",
       "KBA05_GBZ         14.96\n",
       "MOBI_REGIO        14.96\n",
       "KBA05_ANTG1       14.96\n",
       "KBA05_ANTG2       14.96\n",
       "KBA05_ANTG3       14.96\n",
       "PLZ8_GBZ          13.07\n",
       "PLZ8_HHZ          13.07\n",
       "PLZ8_BAUMAX       13.07\n",
       "PLZ8_ANTG4        13.07\n",
       "PLZ8_ANTG1        13.07\n",
       "PLZ8_ANTG3        13.07\n",
       "PLZ8_ANTG2        13.07\n",
       "SHOPPER_TYP       12.48\n",
       "VERS_TYP          12.48\n",
       "HEALTH_TYP        12.48\n",
       "dtype: float64"
      ]
     },
     "execution_count": 14,
     "metadata": {},
     "output_type": "execute_result"
    }
   ],
   "source": [
    "#% of missing values for each column\n",
    "mis_values_per=round((azdias.isna().mean()*100),2).sort_values(ascending=False)\n",
    "mis_values_per[:25]\n"
   ]
  },
  {
   "cell_type": "code",
   "execution_count": 15,
   "metadata": {},
   "outputs": [
    {
     "data": {
      "text/plain": [
       "<matplotlib.axes._subplots.AxesSubplot at 0x7fd5b8b1e400>"
      ]
     },
     "execution_count": 15,
     "metadata": {},
     "output_type": "execute_result"
    },
    {
     "data": {
      "image/png": "[encoded data removed]",
      "text/plain": [
       "<matplotlib.figure.Figure at 0x7fd58b1e9eb8>"
      ]
     },
     "metadata": {
      "needs_background": "light"
     },
     "output_type": "display_data"
    }
   ],
   "source": [
    "miss_values_count=azdias.isna().sum()\n",
    "miss_values_count.hist()"
   ]
  },
  {
   "cell_type": "code",
   "execution_count": 16,
   "metadata": {},
   "outputs": [],
   "source": [
    "miss_val_sort=azdias.isna().sum().sort_values(ascending=False)"
   ]
  },
  {
   "cell_type": "code",
   "execution_count": 17,
   "metadata": {},
   "outputs": [
    {
     "data": {
      "text/plain": [
       "TITEL_KZ          889061\n",
       "AGER_TYP          685843\n",
       "KK_KUNDENTYP      584612\n",
       "KBA05_BAUMAX      476524\n",
       "GEBURTSJAHR       392318\n",
       "ALTER_HH          310267\n",
       "REGIOTYP          158064\n",
       "KKK               158064\n",
       "W_KEIT_KIND_HH    147988\n",
       "KBA05_ANTG4       133324\n",
       "dtype: int64"
      ]
     },
     "execution_count": 17,
     "metadata": {},
     "output_type": "execute_result"
    }
   ],
   "source": [
    "miss_val_sort[:10]"
   ]
  },
  {
   "cell_type": "code",
   "execution_count": 18,
   "metadata": {},
   "outputs": [],
   "source": [
    "outliers= []\n",
    "for column in range(85):\n",
    "        col=miss_val_sort.index[column]\n",
    "        null_col = miss_val_sort[column]\n",
    "        if null_col > 200000:\n",
    "            outliers.append(col)"
   ]
  },
  {
   "cell_type": "code",
   "execution_count": 19,
   "metadata": {},
   "outputs": [
    {
     "data": {
      "text/plain": [
       "['TITEL_KZ',\n",
       " 'AGER_TYP',\n",
       " 'KK_KUNDENTYP',\n",
       " 'KBA05_BAUMAX',\n",
       " 'GEBURTSJAHR',\n",
       " 'ALTER_HH']"
      ]
     },
     "execution_count": 19,
     "metadata": {},
     "output_type": "execute_result"
    }
   ],
   "source": [
    "outliers"
   ]
  },
  {
   "cell_type": "code",
   "execution_count": 20,
   "metadata": {},
   "outputs": [],
   "source": [
    "azdias=azdias.drop(outliers,axis=1)"
   ]
  },
  {
   "cell_type": "code",
   "execution_count": 21,
   "metadata": {},
   "outputs": [
    {
     "data": {
      "text/plain": [
       "(891221, 79)"
      ]
     },
     "execution_count": 21,
     "metadata": {},
     "output_type": "execute_result"
    }
   ],
   "source": [
    "#check if 6 columns are moved from the dataset\n",
    "azdias.shape"
   ]
  },
  {
   "cell_type": "code",
   "execution_count": 22,
   "metadata": {},
   "outputs": [
    {
     "data": {
      "text/plain": [
       "KKK               158064\n",
       "REGIOTYP          158064\n",
       "W_KEIT_KIND_HH    147988\n",
       "MOBI_REGIO        133324\n",
       "KBA05_ANTG4       133324\n",
       "KBA05_ANTG3       133324\n",
       "KBA05_ANTG2       133324\n",
       "KBA05_ANTG1       133324\n",
       "KBA05_GBZ         133324\n",
       "PLZ8_ANTG2        116515\n",
       "dtype: int64"
      ]
     },
     "execution_count": 22,
     "metadata": {},
     "output_type": "execute_result"
    }
   ],
   "source": [
    "#check if 6 columns are moved from the dataset\n",
    "azdias.isna().sum().sort_values(ascending=False)[:10]"
   ]
  },
  {
   "cell_type": "markdown",
   "metadata": {},
   "source": [
    "#### Discussion 1.1.2: Assess Missing Data in Each Column\n",
    "\n",
    "(Double click this cell and replace this text with your own text, reporting your observations regarding the amount of missing data in each column. Are there any patterns in missing values? Which columns were removed from the dataset?)"
   ]
  },
  {
   "cell_type": "markdown",
   "metadata": {},
   "source": [
    "#### Step 1.1.3: Assess Missing Data in Each Row\n",
    "\n",
    "Now, you'll perform a similar assessment for the rows of the dataset. How much data is missing in each row? As with the columns, you should see some groups of points that have a very different numbers of missing values. Divide the data into two subsets: one for data points that are above some threshold for missing values, and a second subset for points below that threshold.\n",
    "\n",
    "In order to know what to do with the outlier rows, we should see if the distribution of data values on columns that are not missing data (or are missing very little data) are similar or different between the two groups. Select at least five of these columns and compare the distribution of values.\n",
    "- You can use seaborn's [`countplot()`](https://seaborn.pydata.org/generated/seaborn.countplot.html) function to create a bar chart of code frequencies and matplotlib's [`subplot()`](https://matplotlib.org/api/_as_gen/matplotlib.pyplot.subplot.html) function to put bar charts for the two subplots side by side.\n",
    "- To reduce repeated code, you might want to write a function that can perform this comparison, taking as one of its arguments a column to be compared.\n",
    "\n",
    "Depending on what you observe in your comparison, this will have implications on how you approach your conclusions later in the analysis. If the distributions of non-missing features look similar between the data with many missing values and the data with few or no missing values, then we could argue that simply dropping those points from the analysis won't present a major issue. On the other hand, if the data with many missing values looks very different from the data with few or no missing values, then we should make a note on those data as special. We'll revisit these data later on. **Either way, you should continue your analysis for now using just the subset of the data with few or no missing values.**"
   ]
  },
  {
   "cell_type": "code",
   "execution_count": 23,
   "metadata": {},
   "outputs": [],
   "source": [
    "# How much data is missing in each row of the dataset?\n",
    "missing_values_rows=azdias.isna().sum(axis=1)\n"
   ]
  },
  {
   "cell_type": "code",
   "execution_count": 24,
   "metadata": {},
   "outputs": [
    {
     "data": {
      "text/plain": [
       "643174    49\n",
       "732775    49\n",
       "472919    48\n",
       "183108    47\n",
       "139316    47\n",
       "691141    47\n",
       "691142    47\n",
       "691171    47\n",
       "691183    47\n",
       "139332    47\n",
       "691197    47\n",
       "139323    47\n",
       "691212    47\n",
       "691122    47\n",
       "139267    47\n",
       "139255    47\n",
       "139250    47\n",
       "139248    47\n",
       "139245    47\n",
       "139243    47\n",
       "dtype: int64"
      ]
     },
     "execution_count": 24,
     "metadata": {},
     "output_type": "execute_result"
    }
   ],
   "source": [
    "missing_values_rows.sort_values(ascending=False)[:20]"
   ]
  },
  {
   "cell_type": "code",
   "execution_count": 27,
   "metadata": {},
   "outputs": [
    {
     "data": {
      "text/plain": [
       "<matplotlib.axes._subplots.AxesSubplot at 0x7fd58655b710>"
      ]
     },
     "execution_count": 27,
     "metadata": {},
     "output_type": "execute_result"
    },
    {
     "data": {
      "image/png": "[encoded data removed]",
      "text/plain": [
       "<matplotlib.figure.Figure at 0x7fd58655bb38>"
      ]
     },
     "metadata": {
      "needs_background": "light"
     },
     "output_type": "display_data"
    }
   ],
   "source": [
    "plt.figure(figsize=[15, 5])\n",
    "missing_values_rows.hist()"
   ]
  },
  {
   "cell_type": "code",
   "execution_count": 28,
   "metadata": {},
   "outputs": [],
   "source": [
    "#% of each rows missing values:\n",
    "missing_values_rows_per=round(missing_values_rows/azdias.shape[1]*100,2)"
   ]
  },
  {
   "cell_type": "code",
   "execution_count": 29,
   "metadata": {},
   "outputs": [
    {
     "data": {
      "text/plain": [
       "643174    62.03\n",
       "732775    62.03\n",
       "472919    60.76\n",
       "183108    59.49\n",
       "139316    59.49\n",
       "691141    59.49\n",
       "691142    59.49\n",
       "691171    59.49\n",
       "691183    59.49\n",
       "139332    59.49\n",
       "dtype: float64"
      ]
     },
     "execution_count": 29,
     "metadata": {},
     "output_type": "execute_result"
    }
   ],
   "source": [
    "missing_values_rows_per.sort_values(ascending=False)[:10]"
   ]
  },
  {
   "cell_type": "code",
   "execution_count": 30,
   "metadata": {},
   "outputs": [],
   "source": [
    "# Write code to divide the data into two subsets based on the number of missing values in each row.\n",
    "#The trheshold is 4 missing values per row\n",
    "azdias_lownan=azdias[azdias.isna().sum(axis=1)<=4]\n",
    "azdias_highnan=azdias[azdias.isna().sum(axis=1)>4]"
   ]
  },
  {
   "cell_type": "code",
   "execution_count": 31,
   "metadata": {},
   "outputs": [
    {
     "data": {
      "text/plain": [
       "(697109, 79)"
      ]
     },
     "execution_count": 31,
     "metadata": {},
     "output_type": "execute_result"
    }
   ],
   "source": [
    "azdias_lownan.shape"
   ]
  },
  {
   "cell_type": "code",
   "execution_count": 32,
   "metadata": {},
   "outputs": [],
   "source": [
    "sns.set_style('darkgrid')"
   ]
  },
  {
   "cell_type": "code",
   "execution_count": 34,
   "metadata": {},
   "outputs": [],
   "source": [
    "# Compare the distribution of values for at least five columns where there are\n",
    "# no or few missing values, between the two subsets.\n",
    "\n",
    "def create_subplot(column_name):\n",
    "    plt.figure(figsize=[15, 3])\n",
    "    plt.subplot(1,2,1)\n",
    "    g1=sns.countplot(y=azdias_lownan[column_name])\n",
    "    g1.set_title('<=4 NaNs per row')\n",
    "    \n",
    "    plt.subplot(1,2,2)\n",
    "    g2=sns.countplot(y=azdias_highnan[column_name])\n",
    "    g2.set_title('>4 NaNs per row')"
   ]
  },
  {
   "cell_type": "code",
   "execution_count": 35,
   "metadata": {
    "scrolled": true
   },
   "outputs": [
    {
     "data": {
      "image/png": "[encoded data removed]",
      "text/plain": [
       "<matplotlib.figure.Figure at 0x7fd586569b70>"
      ]
     },
     "metadata": {},
     "output_type": "display_data"
    }
   ],
   "source": [
    "create_subplot('KKK')"
   ]
  },
  {
   "cell_type": "code",
   "execution_count": 36,
   "metadata": {},
   "outputs": [
    {
     "data": {
      "image/png": "[encoded data removed]",
      "text/plain": [
       "<matplotlib.figure.Figure at 0x7fd5755262e8>"
      ]
     },
     "metadata": {},
     "output_type": "display_data"
    }
   ],
   "source": [
    "create_subplot('REGIOTYP')"
   ]
  },
  {
   "cell_type": "code",
   "execution_count": 37,
   "metadata": {},
   "outputs": [
    {
     "data": {
      "image/png": "[encoded data removed]",
      "text/plain": [
       "<matplotlib.figure.Figure at 0x7fd57545efd0>"
      ]
     },
     "metadata": {},
     "output_type": "display_data"
    }
   ],
   "source": [
    "create_subplot('PLZ8_ANTG2')"
   ]
  },
  {
   "cell_type": "code",
   "execution_count": 38,
   "metadata": {},
   "outputs": [
    {
     "data": {
      "image/png": "[encoded data removed]",
      "text/plain": [
       "<matplotlib.figure.Figure at 0x7fd575484a20>"
      ]
     },
     "metadata": {},
     "output_type": "display_data"
    }
   ],
   "source": [
    "create_subplot('MOBI_REGIO')"
   ]
  },
  {
   "cell_type": "code",
   "execution_count": 39,
   "metadata": {},
   "outputs": [
    {
     "data": {
      "image/png": "[encoded data removed]",
      "text/plain": [
       "<matplotlib.figure.Figure at 0x7fd58b091908>"
      ]
     },
     "metadata": {},
     "output_type": "display_data"
    }
   ],
   "source": [
    "create_subplot('KBA05_ANTG4') "
   ]
  },
  {
   "cell_type": "markdown",
   "metadata": {},
   "source": [
    "#### Discussion 1.1.3: Assess Missing Data in Each Row\n",
    "\n",
    "(Double-click this cell and replace this text with your own text, reporting your observations regarding missing data in rows. Are the data with lots of missing values are qualitatively different from data with few or no missing values?)"
   ]
  },
  {
   "cell_type": "markdown",
   "metadata": {},
   "source": [
    "### Step 1.2: Select and Re-Encode Features\n",
    "\n",
    "Checking for missing data isn't the only way in which you can prepare a dataset for analysis. Since the unsupervised learning techniques to be used will only work on data that is encoded numerically, you need to make a few encoding changes or additional assumptions to be able to make progress. In addition, while almost all of the values in the dataset are encoded using numbers, not all of them represent numeric values. Check the third column of the feature summary (`feat_info`) for a summary of types of measurement.\n",
    "- For numeric and interval data, these features can be kept without changes.\n",
    "- Most of the variables in the dataset are ordinal in nature. While ordinal values may technically be non-linear in spacing, make the simplifying assumption that the ordinal variables can be treated as being interval in nature (that is, kept without any changes).\n",
    "- Special handling may be necessary for the remaining two variable types: categorical, and 'mixed'.\n",
    "\n",
    "In the first two parts of this sub-step, you will perform an investigation of the categorical and mixed-type features and make a decision on each of them, whether you will keep, drop, or re-encode each. Then, in the last part, you will create a new data frame with only the selected and engineered columns.\n",
    "\n",
    "Data wrangling is often the trickiest part of the data analysis process, and there's a lot of it to be done here. But stick with it: once you're done with this step, you'll be ready to get to the machine learning parts of the project!"
   ]
  },
  {
   "cell_type": "code",
   "execution_count": 40,
   "metadata": {},
   "outputs": [
    {
     "data": {
      "text/plain": [
       "ordinal        49\n",
       "categorical    21\n",
       "numeric         7\n",
       "mixed           7\n",
       "interval        1\n",
       "Name: type, dtype: int64"
      ]
     },
     "execution_count": 40,
     "metadata": {},
     "output_type": "execute_result"
    }
   ],
   "source": [
    "# How many features are there of each data type?\n",
    "feat_info['type'].value_counts()"
   ]
  },
  {
   "cell_type": "code",
   "execution_count": 41,
   "metadata": {},
   "outputs": [],
   "source": [
    "# How many features are there of each data type?\n",
    "categ_feat=feat_info[feat_info.type == 'categorical'].attribute\n",
    "\n"
   ]
  },
  {
   "cell_type": "code",
   "execution_count": 42,
   "metadata": {},
   "outputs": [],
   "source": [
    "#list of categorical features in the dataset after removing outlier columns\n",
    "categ_feat = [x for x in categ_feat if x in azdias_lownan.columns]"
   ]
  },
  {
   "cell_type": "code",
   "execution_count": 43,
   "metadata": {},
   "outputs": [
    {
     "data": {
      "text/plain": [
       "15      LP_LEBENSPHASE_FEIN\n",
       "16      LP_LEBENSPHASE_GROB\n",
       "22    PRAEGENDE_JUGENDJAHRE\n",
       "56                 WOHNLAGE\n",
       "59          CAMEO_INTL_2015\n",
       "64             KBA05_BAUMAX\n",
       "79              PLZ8_BAUMAX\n",
       "Name: attribute, dtype: object"
      ]
     },
     "execution_count": 43,
     "metadata": {},
     "output_type": "execute_result"
    }
   ],
   "source": [
    "mixed_feat=feat_info[feat_info.type == 'mixed'].attribute\n",
    "mixed_feat"
   ]
  },
  {
   "cell_type": "markdown",
   "metadata": {},
   "source": [
    "#### Step 1.2.1: Re-Encode Categorical Features\n",
    "\n",
    "For categorical data, you would ordinarily need to encode the levels as dummy variables. Depending on the number of categories, perform one of the following:\n",
    "- For binary (two-level) categoricals that take numeric values, you can keep them without needing to do anything.\n",
    "- There is one binary variable that takes on non-numeric values. For this one, you need to re-encode the values as numbers or create a dummy variable.\n",
    "- For multi-level categoricals (three or more values), you can choose to encode the values using multiple dummy variables (e.g. via [OneHotEncoder](http://scikit-learn.org/stable/modules/generated/sklearn.preprocessing.OneHotEncoder.html)), or (to keep things straightforward) just drop them from the analysis. As always, document your choices in the Discussion section."
   ]
  },
  {
   "cell_type": "code",
   "execution_count": 44,
   "metadata": {},
   "outputs": [
    {
     "data": {
      "text/plain": [
       "['ANREDE_KZ', 'GREEN_AVANTGARDE', 'SOHO_KZ', 'VERS_TYP', 'OST_WEST_KZ']"
      ]
     },
     "execution_count": 44,
     "metadata": {},
     "output_type": "execute_result"
    }
   ],
   "source": [
    "# Assess categorical variables: which are binary, which are multi-level, and\n",
    "# which one needs to be re-encoded?\n",
    "\n",
    "#binary columns\n",
    "binary_cols = [x for x in categ_feat if azdias_lownan[x].nunique()==2]\n",
    "binary_cols  "
   ]
  },
  {
   "cell_type": "code",
   "execution_count": 45,
   "metadata": {},
   "outputs": [
    {
     "data": {
      "text/plain": [
       "['CJT_GESAMTTYP',\n",
       " 'FINANZTYP',\n",
       " 'GFK_URLAUBERTYP',\n",
       " 'LP_FAMILIE_FEIN',\n",
       " 'LP_FAMILIE_GROB',\n",
       " 'LP_STATUS_FEIN',\n",
       " 'LP_STATUS_GROB',\n",
       " 'NATIONALITAET_KZ',\n",
       " 'SHOPPER_TYP',\n",
       " 'ZABEOTYP',\n",
       " 'GEBAEUDETYP',\n",
       " 'CAMEO_DEUG_2015',\n",
       " 'CAMEO_DEU_2015']"
      ]
     },
     "execution_count": 45,
     "metadata": {},
     "output_type": "execute_result"
    }
   ],
   "source": [
    "#multilevel categorical features\n",
    "multilevel = [x for x in categ_feat if azdias_lownan[x].nunique()>2]\n",
    "multilevel"
   ]
  },
  {
   "cell_type": "code",
   "execution_count": 46,
   "metadata": {},
   "outputs": [
    {
     "name": "stderr",
     "output_type": "stream",
     "text": [
      "/opt/conda/lib/python3.6/site-packages/ipykernel_launcher.py:4: SettingWithCopyWarning: \n",
      "A value is trying to be set on a copy of a slice from a DataFrame.\n",
      "Try using .loc[row_indexer,col_indexer] = value instead\n",
      "\n",
      "See the caveats in the documentation: http://pandas.pydata.org/pandas-docs/stable/indexing.html#indexing-view-versus-copy\n",
      "  after removing the cwd from sys.path.\n"
     ]
    }
   ],
   "source": [
    "# Re-encode categorical variable(s) to be kept in the analysis.\n",
    "\n",
    "# Re-encode 'OST_WEST_KZ' in in the dataset\n",
    "azdias_lownan['OST_WEST_KZ'] = azdias_lownan['OST_WEST_KZ'].replace({'O':0.0, 'W':1.0})\n"
   ]
  },
  {
   "cell_type": "code",
   "execution_count": 47,
   "metadata": {},
   "outputs": [
    {
     "data": {
      "text/plain": [
       "array([ 1.,  0.])"
      ]
     },
     "execution_count": 47,
     "metadata": {},
     "output_type": "execute_result"
    }
   ],
   "source": [
    "#check column if re-encoded\n",
    "azdias_lownan['OST_WEST_KZ'].unique()\n"
   ]
  },
  {
   "cell_type": "code",
   "execution_count": 61,
   "metadata": {},
   "outputs": [],
   "source": [
    "#Column 'CAMEO_DEU_2015' contains lots of variables and lead to extremely big model. \n",
    "#Information from this column is also captured in other columns. \n",
    "#Drop this column\n",
    "\n",
    "azdias_clean=azdias_lownan.drop('CAMEO_DEU_2015',axis=1)\n"
   ]
  },
  {
   "cell_type": "markdown",
   "metadata": {},
   "source": [
    "#### Discussion 1.2.1: Re-Encode Categorical Features\n",
    "\n",
    "(Double-click this cell and replace this text with your own text, reporting your findings and decisions regarding categorical features. Which ones did you keep, which did you drop, and what engineering steps did you perform?)"
   ]
  },
  {
   "cell_type": "markdown",
   "metadata": {},
   "source": [
    "#### Step 1.2.2: Engineer Mixed-Type Features\n",
    "\n",
    "There are a handful of features that are marked as \"mixed\" in the feature summary that require special treatment in order to be included in the analysis. There are two in particular that deserve attention; the handling of the rest are up to your own choices:\n",
    "- \"PRAEGENDE_JUGENDJAHRE\" combines information on three dimensions: generation by decade, movement (mainstream vs. avantgarde), and nation (east vs. west). While there aren't enough levels to disentangle east from west, you should create two new variables to capture the other two dimensions: an interval-type variable for decade, and a binary variable for movement.\n",
    "- \"CAMEO_INTL_2015\" combines information on two axes: wealth and life stage. Break up the two-digit codes by their 'tens'-place and 'ones'-place digits into two new ordinal variables (which, for the purposes of this project, is equivalent to just treating them as their raw numeric values).\n",
    "- If you decide to keep or engineer new features around the other mixed-type features, make sure you note your steps in the Discussion section.\n",
    "\n",
    "Be sure to check `Data_Dictionary.md` for the details needed to finish these tasks."
   ]
  },
  {
   "cell_type": "code",
   "execution_count": 62,
   "metadata": {},
   "outputs": [],
   "source": [
    "#Engineer PRAEGENDE_JUGENDJAHRE column\n",
    "Movement =[]\n",
    "Decade=[]\n",
    "for values in azdias_clean['PRAEGENDE_JUGENDJAHRE']:\n",
    "# Movement column\n",
    "    if values in [1.0,3.0,5.0,8.0,10.0,12.0,14.0]:\n",
    "        Movement.append(0.0)\n",
    "    elif values in [2.0,4.0,6.0,7.0,9.0,11.0,13.0,15.0]:\n",
    "        Movement.append(1.0)\n",
    "    else:\n",
    "        Movement.append(np.nan)\n",
    "# Decade column\n",
    "    if values in [1.0,2.0]:\n",
    "        Decade.append(40.0)\n",
    "    elif values in [3.0, 4.0]:\n",
    "        Decade.append(50.0)\n",
    "    elif values in [5.0,6.0,7.0]:\n",
    "        Decade.append(60.0)\n",
    "    elif values in [8.0,9.0]:\n",
    "        Decade.append(70.0)\n",
    "    elif values in [10.0,11.0,12.0,13.0]:\n",
    "        Decade.append(80)\n",
    "    elif values in [14.0,15.0]:\n",
    "        Decade.append(90)\n",
    "    else:\n",
    "        Decade.append(np.nan)\n",
    "\n",
    "azdias_clean['PRAEGENDE_JUGENDJAHRE_Movem']=Movement\n",
    "azdias_clean['PRAEGENDE_JUGENDJAHRE_Decade']=Decade"
   ]
  },
  {
   "cell_type": "code",
   "execution_count": 63,
   "metadata": {},
   "outputs": [
    {
     "data": {
      "text/html": [
       "<div>\n",
       "<style scoped>\n",
       "    .dataframe tbody tr th:only-of-type {\n",
       "        vertical-align: middle;\n",
       "    }\n",
       "\n",
       "    .dataframe tbody tr th {\n",
       "        vertical-align: top;\n",
       "    }\n",
       "\n",
       "    .dataframe thead th {\n",
       "        text-align: right;\n",
       "    }\n",
       "</style>\n",
       "<table border=\"1\" class=\"dataframe\">\n",
       "  <thead>\n",
       "    <tr style=\"text-align: right;\">\n",
       "      <th></th>\n",
       "      <th>PRAEGENDE_JUGENDJAHRE</th>\n",
       "      <th>PRAEGENDE_JUGENDJAHRE_Movem</th>\n",
       "      <th>PRAEGENDE_JUGENDJAHRE_Decade</th>\n",
       "    </tr>\n",
       "  </thead>\n",
       "  <tbody>\n",
       "    <tr>\n",
       "      <th>1</th>\n",
       "      <td>14.0</td>\n",
       "      <td>0.0</td>\n",
       "      <td>90.0</td>\n",
       "    </tr>\n",
       "    <tr>\n",
       "      <th>2</th>\n",
       "      <td>15.0</td>\n",
       "      <td>1.0</td>\n",
       "      <td>90.0</td>\n",
       "    </tr>\n",
       "    <tr>\n",
       "      <th>4</th>\n",
       "      <td>8.0</td>\n",
       "      <td>0.0</td>\n",
       "      <td>70.0</td>\n",
       "    </tr>\n",
       "    <tr>\n",
       "      <th>5</th>\n",
       "      <td>3.0</td>\n",
       "      <td>0.0</td>\n",
       "      <td>50.0</td>\n",
       "    </tr>\n",
       "    <tr>\n",
       "      <th>6</th>\n",
       "      <td>10.0</td>\n",
       "      <td>0.0</td>\n",
       "      <td>80.0</td>\n",
       "    </tr>\n",
       "  </tbody>\n",
       "</table>\n",
       "</div>"
      ],
      "text/plain": [
       "   PRAEGENDE_JUGENDJAHRE  PRAEGENDE_JUGENDJAHRE_Movem  \\\n",
       "1                   14.0                          0.0   \n",
       "2                   15.0                          1.0   \n",
       "4                    8.0                          0.0   \n",
       "5                    3.0                          0.0   \n",
       "6                   10.0                          0.0   \n",
       "\n",
       "   PRAEGENDE_JUGENDJAHRE_Decade  \n",
       "1                          90.0  \n",
       "2                          90.0  \n",
       "4                          70.0  \n",
       "5                          50.0  \n",
       "6                          80.0  "
      ]
     },
     "execution_count": 63,
     "metadata": {},
     "output_type": "execute_result"
    }
   ],
   "source": [
    "#Check if PRAEGENDE_JUGENDJAHRE column is re-encoded\n",
    "azdias_clean[['PRAEGENDE_JUGENDJAHRE','PRAEGENDE_JUGENDJAHRE_Movem','PRAEGENDE_JUGENDJAHRE_Decade']].head()"
   ]
  },
  {
   "cell_type": "code",
   "execution_count": 64,
   "metadata": {},
   "outputs": [
    {
     "data": {
      "text/plain": [
       "dtype('float64')"
      ]
     },
     "execution_count": 64,
     "metadata": {},
     "output_type": "execute_result"
    }
   ],
   "source": [
    "# Investigate \"CAMEO_INTL_2015\" and engineer two new variables.\n",
    "# change format from string to numeric\n",
    "azdias_clean['CAMEO_INTL_2015'] = pd.to_numeric(azdias_clean['CAMEO_INTL_2015'])\n",
    "#check\n",
    "azdias_clean['CAMEO_INTL_2015'].dtypes"
   ]
  },
  {
   "cell_type": "code",
   "execution_count": 65,
   "metadata": {},
   "outputs": [],
   "source": [
    "#Engineer CAMEO_INTL_2015 column\n",
    "\n",
    "Wealth =[]\n",
    "Life_Stage =[]\n",
    "for values in azdias_clean['CAMEO_INTL_2015']:\n",
    "# Wealth column\n",
    "    if values in [11,12,13,14,15]:\n",
    "        Wealth.append(5.0)\n",
    "    elif values in [21,22,23,24,25]:\n",
    "        Wealth.append(4.0)\n",
    "    elif values in [31,32,33,34,35]:\n",
    "        Wealth.append(3.0)\n",
    "    elif values in [41,42,43,44,45]:\n",
    "        Wealth.append(2.0)\n",
    "    elif values in [51,52,53,54,55]:\n",
    "        Wealth.append(1.0)\n",
    "    else:\n",
    "        Wealth.append(np.nan)\n",
    "# Life Stage Column\n",
    "    if values in [11,21,31,41,51]:\n",
    "        Life_Stage.append(1.0)\n",
    "    elif values in [12,22,32,42,52]:\n",
    "        Life_Stage.append(2.0)\n",
    "    elif values in [13,23,33,43,53]:\n",
    "        Life_Stage.append(3.0)\n",
    "    elif values in [14,24,34,44,54]:\n",
    "        Life_Stage.append(4.0)\n",
    "    elif values in [15,25,35,45,55]:\n",
    "        Life_Stage.append(5.0)\n",
    "    else:\n",
    "        Life_Stage.append(np.nan)\n",
    "\n",
    "azdias_clean['CAMEO_INTL_WEALTH'] = Wealth\n",
    "azdias_clean['CAMEO_INTL_LIFE_STAGE'] = Life_Stage\n"
   ]
  },
  {
   "cell_type": "code",
   "execution_count": 66,
   "metadata": {},
   "outputs": [
    {
     "data": {
      "text/html": [
       "<div>\n",
       "<style scoped>\n",
       "    .dataframe tbody tr th:only-of-type {\n",
       "        vertical-align: middle;\n",
       "    }\n",
       "\n",
       "    .dataframe tbody tr th {\n",
       "        vertical-align: top;\n",
       "    }\n",
       "\n",
       "    .dataframe thead th {\n",
       "        text-align: right;\n",
       "    }\n",
       "</style>\n",
       "<table border=\"1\" class=\"dataframe\">\n",
       "  <thead>\n",
       "    <tr style=\"text-align: right;\">\n",
       "      <th></th>\n",
       "      <th>CAMEO_INTL_2015</th>\n",
       "      <th>CAMEO_INTL_WEALTH</th>\n",
       "      <th>CAMEO_INTL_LIFE_STAGE</th>\n",
       "    </tr>\n",
       "  </thead>\n",
       "  <tbody>\n",
       "    <tr>\n",
       "      <th>1</th>\n",
       "      <td>51.0</td>\n",
       "      <td>1.0</td>\n",
       "      <td>1.0</td>\n",
       "    </tr>\n",
       "    <tr>\n",
       "      <th>2</th>\n",
       "      <td>24.0</td>\n",
       "      <td>4.0</td>\n",
       "      <td>4.0</td>\n",
       "    </tr>\n",
       "  </tbody>\n",
       "</table>\n",
       "</div>"
      ],
      "text/plain": [
       "   CAMEO_INTL_2015  CAMEO_INTL_WEALTH  CAMEO_INTL_LIFE_STAGE\n",
       "1             51.0                1.0                    1.0\n",
       "2             24.0                4.0                    4.0"
      ]
     },
     "execution_count": 66,
     "metadata": {},
     "output_type": "execute_result"
    }
   ],
   "source": [
    "#Check if columns are added\n",
    "azdias_clean[['CAMEO_INTL_2015','CAMEO_INTL_WEALTH','CAMEO_INTL_LIFE_STAGE']].head(2) \n"
   ]
  },
  {
   "cell_type": "markdown",
   "metadata": {},
   "source": [
    "#### Discussion 1.2.2: Engineer Mixed-Type Features\n",
    "\n",
    "(Double-click this cell and replace this text with your own text, reporting your findings and decisions regarding mixed-value features. Which ones did you keep, which did you drop, and what engineering steps did you perform?)"
   ]
  },
  {
   "cell_type": "markdown",
   "metadata": {},
   "source": [
    "#### Step 1.2.3: Complete Feature Selection\n",
    "\n",
    "In order to finish this step up, you need to make sure that your data frame now only has the columns that you want to keep. To summarize, the dataframe should consist of the following:\n",
    "- All numeric, interval, and ordinal type columns from the original dataset.\n",
    "- Binary categorical features (all numerically-encoded).\n",
    "- Engineered features from other multi-level categorical features and mixed features.\n",
    "\n",
    "Make sure that for any new columns that you have engineered, that you've excluded the original columns from the final dataset. Otherwise, their values will interfere with the analysis later on the project. For example, you should not keep \"PRAEGENDE_JUGENDJAHRE\", since its values won't be useful for the algorithm: only the values derived from it in the engineered features you created should be retained. As a reminder, your data should only be from **the subset with few or no missing values**."
   ]
  },
  {
   "cell_type": "code",
   "execution_count": 67,
   "metadata": {},
   "outputs": [],
   "source": [
    "#drop original columns 'CAMEO_INTL_2015','PRAEGENDE_JUGENDJAHRE'\n",
    "azdias_clean= azdias_clean.drop(['PRAEGENDE_JUGENDJAHRE','CAMEO_INTL_2015'], axis=1)\n"
   ]
  },
  {
   "cell_type": "code",
   "execution_count": 69,
   "metadata": {},
   "outputs": [
    {
     "data": {
      "text/plain": [
       "['LP_LEBENSPHASE_FEIN', 'LP_LEBENSPHASE_GROB', 'WOHNLAGE', 'PLZ8_BAUMAX']"
      ]
     },
     "execution_count": 69,
     "metadata": {},
     "output_type": "execute_result"
    }
   ],
   "source": [
    "# Do whatever you need to in order to ensure that the dataframe only contains\n",
    "# the columns that should be passed to the algorithm functions.\n",
    "#drop the rest of mixed columns \n",
    "\n",
    "mixed_feat"
   ]
  },
  {
   "cell_type": "code",
   "execution_count": 70,
   "metadata": {},
   "outputs": [
    {
     "data": {
      "text/plain": [
       "['LP_LEBENSPHASE_FEIN', 'LP_LEBENSPHASE_GROB', 'WOHNLAGE', 'PLZ8_BAUMAX']"
      ]
     },
     "execution_count": 70,
     "metadata": {},
     "output_type": "execute_result"
    }
   ],
   "source": [
    "#create a list of mixed variables present in the dataset\n",
    "mixed_feat = [x for x in mixed_feat if x in azdias_clean.columns]\n",
    "mixed_feat"
   ]
  },
  {
   "cell_type": "code",
   "execution_count": 71,
   "metadata": {},
   "outputs": [],
   "source": [
    "mixed_feat_to_drop= ['LP_LEBENSPHASE_FEIN', 'LP_LEBENSPHASE_GROB']\n",
    "#drop mixed features\n",
    "azdias_clean=azdias_clean.drop(mixed_feat_to_drop,axis=1)"
   ]
  },
  {
   "cell_type": "code",
   "execution_count": 72,
   "metadata": {},
   "outputs": [
    {
     "data": {
      "text/plain": [
       "(697109, 78)"
      ]
     },
     "execution_count": 72,
     "metadata": {},
     "output_type": "execute_result"
    }
   ],
   "source": [
    "azdias_clean.shape"
   ]
  },
  {
   "cell_type": "code",
   "execution_count": 74,
   "metadata": {},
   "outputs": [
    {
     "data": {
      "text/plain": [
       "['CJT_GESAMTTYP',\n",
       " 'FINANZTYP',\n",
       " 'GFK_URLAUBERTYP',\n",
       " 'LP_FAMILIE_FEIN',\n",
       " 'LP_FAMILIE_GROB',\n",
       " 'LP_STATUS_FEIN',\n",
       " 'LP_STATUS_GROB',\n",
       " 'NATIONALITAET_KZ',\n",
       " 'SHOPPER_TYP',\n",
       " 'ZABEOTYP',\n",
       " 'GEBAEUDETYP',\n",
       " 'CAMEO_DEUG_2015']"
      ]
     },
     "execution_count": 74,
     "metadata": {},
     "output_type": "execute_result"
    }
   ],
   "source": [
    "#create dummy variables forthe remaining multilevel variables\n",
    "#create a list of multilevel variables\n",
    "multilevel_clean = [x for x in multilevel if x in azdias_clean.columns]\n",
    "multilevel_clean"
   ]
  },
  {
   "cell_type": "code",
   "execution_count": 75,
   "metadata": {},
   "outputs": [],
   "source": [
    "#create dummy variables for multilevel variables\n",
    "azdias_encoded=pd.get_dummies(azdias_clean, columns = multilevel_clean)"
   ]
  },
  {
   "cell_type": "markdown",
   "metadata": {},
   "source": [
    "### Step 1.3: Create a Cleaning Function\n",
    "\n",
    "Even though you've finished cleaning up the general population demographics data, it's important to look ahead to the future and realize that you'll need to perform the same cleaning steps on the customer demographics data. In this substep, complete the function below to execute the main feature selection, encoding, and re-engineering steps you performed above. Then, when it comes to looking at the customer data in Step 3, you can just run this function on that DataFrame to get the trimmed dataset in a single step."
   ]
  },
  {
   "cell_type": "code",
   "execution_count": 76,
   "metadata": {},
   "outputs": [],
   "source": [
    "def clean_data(df):\n",
    "    for index in range (feat_info.shape[0]):\n",
    "        missing_or_unknown_data = feat_info.iloc[index]['missing_or_unknown']\n",
    "        #remove ([,])\n",
    "        missing_or_unknown_data = missing_or_unknown_data.strip('[')\n",
    "        missing_or_unknown_data = missing_or_unknown_data.strip(']')\n",
    "        missing_or_unknown_data = missing_or_unknown_data.split(',')\n",
    "        missing_or_unknown_data=[int(value) if (value!='X' and value!='XX' and value!='') else value for value in missing_or_unknown_data]\n",
    "        #replace the missing or unknown data with NaN but in the dataset itself\n",
    "        if missing_or_unknown_data != ['']:\n",
    "            df = df.replace({feat_info.iloc[index]['attribute']: missing_or_unknown_data}, np.nan)\n",
    "   #remove selected columns and rows\n",
    "    for col in df.columns:\n",
    "        df[col].replace('XX',np.nan,inplace=True)\n",
    "        df[col].replace('X',np.nan,inplace=True)\n",
    "        \n",
    "        \n",
    "    outliers=['TITEL_KZ','AGER_TYP','KK_KUNDENTYP','KBA05_BAUMAX','GEBURTSJAHR','ALTER_HH']\n",
    "    df_clean=df.drop(outliers,axis=1)\n",
    "    #clean rows\n",
    "    df_clean=df_clean[df_clean.isna().sum(axis=1)<=4]\n",
    "    df_clean['CAMEO_INTL_2015'] = pd.to_numeric(df_clean['CAMEO_INTL_2015']) \n",
    "    df_clean['OST_WEST_KZ'] = df_clean['OST_WEST_KZ'].replace({'O':0.0, 'W':1.0})\n",
    "   \n",
    "   #select, re-encode, and engineer column values.\n",
    "    #Engineer PRAEGENDE_JUGENDJAHRE column\n",
    "    Movement =[]\n",
    "    Decade=[]\n",
    "    for values in df_clean ['PRAEGENDE_JUGENDJAHRE']:\n",
    "        # Movement column\n",
    "        if values in [1.0,3.0,5.0,8.0,10.0,12.0,14.0]:\n",
    "            Movement.append(0.0)\n",
    "        elif values in [2.0,4.0,6.0,7.0,9.0,11.0,13.0,15.0]:\n",
    "            Movement.append(1.0)\n",
    "        else:\n",
    "            Movement.append(np.nan)\n",
    "    # Decade column\n",
    "        if values in [1.0,2.0]:\n",
    "            Decade.append(40.0)\n",
    "        elif values in [3.0, 4.0]:\n",
    "            Decade.append(50.0)\n",
    "        elif values in [5.0,6.0,7.0]:\n",
    "            Decade.append(60.0)\n",
    "        elif values in [8.0,9.0]:\n",
    "            Decade.append(70.0)\n",
    "        elif values in [10.0,11.0,12.0,13.0]:\n",
    "            Decade.append(80)\n",
    "        elif values in [14.0,15.0]:\n",
    "            Decade.append(90)\n",
    "        else:\n",
    "            Decade.append(np.nan)\n",
    "\n",
    "    df_clean['PRAEGENDE_JUGENDJAHRE_Movem']=Movement\n",
    "    df_clean['PRAEGENDE_JUGENDJAHRE_Decade']=Decade\n",
    "    Wealth =[]\n",
    "    Life_Stage =[]\n",
    "    \n",
    "    for values in df_clean['CAMEO_INTL_2015']:\n",
    "        # Wealth column\n",
    "        if values in [11,12,13,14,15]:\n",
    "            Wealth.append(5.0)\n",
    "        elif values in [21,22,23,24,25]:\n",
    "            Wealth.append(4.0)\n",
    "        elif values in [31,32,33,34,35]:\n",
    "            Wealth.append(3.0)\n",
    "        elif values in [41,42,43,44,45]:\n",
    "            Wealth.append(2.0)\n",
    "        elif values in [51,52,53,54,55]:\n",
    "            Wealth.append(1.0)\n",
    "        else:\n",
    "            Wealth.append(np.nan)\n",
    "        # Life Stage Column\n",
    "        if values in [11,21,31,41,51]:\n",
    "            Life_Stage.append(1.0)\n",
    "        elif values in [12,22,32,42,52]:\n",
    "            Life_Stage.append(2.0)\n",
    "        elif values in [13,23,33,43,53]:\n",
    "            Life_Stage.append(3.0)\n",
    "        elif values in [14,24,34,44,54]:\n",
    "            Life_Stage.append(4.0)\n",
    "        elif values in [15,25,35,45,55]:\n",
    "            Life_Stage.append(5.0)\n",
    "        else:\n",
    "            Life_Stage.append(np.nan)\n",
    "\n",
    "    df_clean['CAMEO_INTL_WEALTH'] = Wealth\n",
    "    df_clean['CAMEO_INTL_LIFE_STAGE'] = Life_Stage\n",
    "    #drop 'CAMEO_DEU_2015' (lots of levels, overloading the model) \n",
    "    #and 'PRAEGENDE_JUGENDJAHRE','CAMEO_INTL_2015'\n",
    "    df_clean=df_clean.drop(['CAMEO_DEU_2015','PRAEGENDE_JUGENDJAHRE','CAMEO_INTL_2015'],axis=1)\n",
    "   #drop the rest of mixed features\n",
    "    mixed_feat_to_drop= ['LP_LEBENSPHASE_FEIN', 'LP_LEBENSPHASE_GROB']\n",
    "    df_clean=df_clean.drop(mixed_feat_to_drop,axis=1)\n",
    "    #create dummy variables for remaining multilevel categorical variables\n",
    "    multilevel=['CJT_GESAMTTYP','FINANZTYP','GFK_URLAUBERTYP','LP_FAMILIE_FEIN','LP_FAMILIE_GROB',\n",
    "                'LP_STATUS_FEIN','LP_STATUS_GROB','NATIONALITAET_KZ','SHOPPER_TYP','ZABEOTYP',\n",
    "                'GEBAEUDETYP','CAMEO_DEUG_2015']\n",
    "    df_encoded=pd.get_dummies(df_clean, columns = multilevel)\n",
    "\n",
    "    # Return the cleaned dataframe\n",
    "    return  df_encoded\n",
    "         "
   ]
  },
  {
   "cell_type": "markdown",
   "metadata": {},
   "source": [
    "## Step 2: Feature Transformation\n",
    "\n",
    "### Step 2.1: Apply Feature Scaling\n",
    "\n",
    "Before we apply dimensionality reduction techniques to the data, we need to perform feature scaling so that the principal component vectors are not influenced by the natural differences in scale for features. Starting from this part of the project, you'll want to keep an eye on the [API reference page for sklearn](http://scikit-learn.org/stable/modules/classes.html) to help you navigate to all of the classes and functions that you'll need. In this substep, you'll need to check the following:\n",
    "\n",
    "- sklearn requires that data not have missing values in order for its estimators to work properly. So, before applying the scaler to your data, make sure that you've cleaned the DataFrame of the remaining missing values. This can be as simple as just removing all data points with missing data, or applying an [Imputer](https://scikit-learn.org/0.16/modules/generated/sklearn.preprocessing.Imputer.html) to replace all missing values. You might also try a more complicated procedure where you temporarily remove missing values in order to compute the scaling parameters before re-introducing those missing values and applying imputation. Think about how much missing data you have and what possible effects each approach might have on your analysis, and justify your decision in the discussion section below.\n",
    "- For the actual scaling function, a [StandardScaler](http://scikit-learn.org/stable/modules/generated/sklearn.preprocessing.StandardScaler.html) instance is suggested, scaling each feature to mean 0 and standard deviation 1.\n",
    "- For these classes, you can make use of the `.fit_transform()` method to both fit a procedure to the data as well as apply the transformation to the data at the same time. Don't forget to keep the fit sklearn objects handy, since you'll be applying them to the customer demographics data towards the end of the project."
   ]
  },
  {
   "cell_type": "code",
   "execution_count": 77,
   "metadata": {},
   "outputs": [],
   "source": [
    "#%of missing values per column\n",
    "mv_per=round((azdias_encoded.isna().mean()*100),1).sort_values(ascending=False)\n"
   ]
  },
  {
   "cell_type": "code",
   "execution_count": 78,
   "metadata": {},
   "outputs": [
    {
     "data": {
      "text/plain": [
       "REGIOTYP                        5.5\n",
       "KKK                             5.5\n",
       "W_KEIT_KIND_HH                  2.6\n",
       "HEALTH_TYP                      1.8\n",
       "VERS_TYP                        1.8\n",
       "PRAEGENDE_JUGENDJAHRE_Movem     1.0\n",
       "PRAEGENDE_JUGENDJAHRE_Decade    1.0\n",
       "ORTSGR_KLS9                     0.5\n",
       "ARBEIT                          0.5\n",
       "RELAT_AB                        0.5\n",
       "CAMEO_INTL_WEALTH               0.4\n",
       "ANZ_HAUSHALTE_AKTIV             0.4\n",
       "CAMEO_INTL_LIFE_STAGE           0.4\n",
       "ALTERSKATEGORIE_GROB            0.2\n",
       "KBA13_ANZAHL_PKW                0.1\n",
       "EWDICHTE                        0.1\n",
       "ANZ_HH_TITEL                    0.1\n",
       "INNENSTADT                      0.1\n",
       "BALLRAUM                        0.1\n",
       "GEBAEUDETYP_RASTER              0.0\n",
       "dtype: float64"
      ]
     },
     "execution_count": 78,
     "metadata": {},
     "output_type": "execute_result"
    }
   ],
   "source": [
    "#% of missing values per column\n",
    "mv_per[:20]"
   ]
  },
  {
   "cell_type": "code",
   "execution_count": 215,
   "metadata": {},
   "outputs": [],
   "source": [
    "azdias_no_nans=azdias_encoded.dropna()"
   ]
  },
  {
   "cell_type": "code",
   "execution_count": 216,
   "metadata": {},
   "outputs": [
    {
     "data": {
      "text/plain": [
       "(623211, 150)"
      ]
     },
     "execution_count": 216,
     "metadata": {},
     "output_type": "execute_result"
    }
   ],
   "source": [
    "azdias_no_nans.shape"
   ]
  },
  {
   "cell_type": "code",
   "execution_count": 219,
   "metadata": {},
   "outputs": [],
   "source": [
    "from sklearn.preprocessing import StandardScaler\n",
    "scaler=StandardScaler()\n",
    "azdias_stand = scaler.fit_transform(azdias_no_nans)"
   ]
  },
  {
   "cell_type": "code",
   "execution_count": 220,
   "metadata": {},
   "outputs": [],
   "source": [
    "#create a function for feature scaling and final data for future analysis\n",
    "def data_for_analysis(data):\n",
    "    data_stand=StandardScaler().fit_transform(data_no_nans)\n",
    "    return data_stand"
   ]
  },
  {
   "cell_type": "markdown",
   "metadata": {},
   "source": [
    "### Discussion 2.1: Apply Feature Scaling\n",
    "\n",
    "(Double-click this cell and replace this text with your own text, reporting your decisions regarding feature scaling.)"
   ]
  },
  {
   "cell_type": "markdown",
   "metadata": {},
   "source": [
    "### Step 2.2: Perform Dimensionality Reduction\n",
    "\n",
    "On your scaled data, you are now ready to apply dimensionality reduction techniques.\n",
    "\n",
    "- Use sklearn's [PCA](http://scikit-learn.org/stable/modules/generated/sklearn.decomposition.PCA.html) class to apply principal component analysis on the data, thus finding the vectors of maximal variance in the data. To start, you should not set any parameters (so all components are computed) or set a number of components that is at least half the number of features (so there's enough features to see the general trend in variability).\n",
    "- Check out the ratio of variance explained by each principal component as well as the cumulative variance explained. Try plotting the cumulative or sequential values using matplotlib's [`plot()`](https://matplotlib.org/api/_as_gen/matplotlib.pyplot.plot.html) function. Based on what you find, select a value for the number of transformed features you'll retain for the clustering part of the project.\n",
    "- Once you've made a choice for the number of components to keep, make sure you re-fit a PCA instance to perform the decided-on transformation."
   ]
  },
  {
   "cell_type": "code",
   "execution_count": 221,
   "metadata": {},
   "outputs": [],
   "source": [
    "# Apply PCA to the data.\n",
    "#Iniital choice of components\n",
    "num_components=100\n",
    "pca = PCA(num_components)\n",
    "X_pca = pca.fit_transform(azdias_stand)\n"
   ]
  },
  {
   "cell_type": "code",
   "execution_count": 222,
   "metadata": {},
   "outputs": [
    {
     "name": "stdout",
     "output_type": "stream",
     "text": [
      "30\n"
     ]
    }
   ],
   "source": [
    "#Select number of componets that explain 60% of variation \n",
    "for i in range(0, num_components):\n",
    "    if pca.explained_variance_ratio_[0:i].sum() >=0.60:\n",
    "        num_components_fin=i\n",
    "        print(num_components_fin)\n",
    "        break\n"
   ]
  },
  {
   "cell_type": "code",
   "execution_count": 223,
   "metadata": {},
   "outputs": [
    {
     "data": {
      "image/png": "[encoded data removed]",
      "text/plain": [
       "<matplotlib.figure.Figure at 0x7fd581ee1278>"
      ]
     },
     "metadata": {},
     "output_type": "display_data"
    }
   ],
   "source": [
    "# Investigate the variance accounted for by each principal component.\n",
    "#plot first 30 components\n",
    "\n",
    "ind = np.arange(num_components_fin)\n",
    "vals = pca.explained_variance_ratio_[:num_components_fin]\n",
    "\n",
    " \n",
    "plt.figure(figsize=(30, 6))\n",
    "ax = plt.subplot(111)\n",
    "cumvals = np.cumsum(vals)\n",
    "ax.bar(ind, vals)\n",
    "\n",
    "\n",
    "ax.plot(ind, cumvals)\n",
    "for i in range(num_components_fin):\n",
    "    ax.annotate(r\"%s%%\" % ((str(vals[i]*100)[:4])), (ind[i]+0.2, vals[i]), va=\"bottom\", ha=\"center\", fontsize=12)\n",
    " \n",
    "    ax.xaxis.set_tick_params(width=1)\n",
    "    ax.yaxis.set_tick_params(width=4, length=12)\n",
    "    ax.set_xlabel(\"Principal Component\")\n",
    "    ax.set_ylabel(\"Variance Explained (%)\")\n",
    "    plt.title('Explained Variance Per Principal Component')\n"
   ]
  },
  {
   "cell_type": "code",
   "execution_count": 224,
   "metadata": {},
   "outputs": [],
   "source": [
    "# Re-apply PCA to the data while selecting for number of components to retain.\n",
    "\n",
    "pca_30= PCA(num_components_fin)\n",
    "X_pca_30 = pca.fit_transform(azdias_stand)\n"
   ]
  },
  {
   "cell_type": "code",
   "execution_count": 225,
   "metadata": {},
   "outputs": [],
   "source": [
    "#create formula for future PCA analysis\n",
    "\n",
    "def do_pca(n_components, data):\n",
    "    X = scaler.fit_transform(data)\n",
    "    pca = PCA(n_components)\n",
    "    X_pca = pca.fit_transform(X)\n",
    "    return pca, X_pca\n"
   ]
  },
  {
   "cell_type": "markdown",
   "metadata": {},
   "source": [
    "### Discussion 2.2: Perform Dimensionality Reduction\n",
    "\n",
    "(Double-click this cell and replace this text with your own text, reporting your findings and decisions regarding dimensionality reduction. How many principal components / transformed features are you retaining for the next step of the analysis?)"
   ]
  },
  {
   "cell_type": "markdown",
   "metadata": {},
   "source": [
    "### Step 2.3: Interpret Principal Components\n",
    "\n",
    "Now that we have our transformed principal components, it's a nice idea to check out the weight of each variable on the first few components to see if they can be interpreted in some fashion.\n",
    "\n",
    "As a reminder, each principal component is a unit vector that points in the direction of highest variance (after accounting for the variance captured by earlier principal components). The further a weight is from zero, the more the principal component is in the direction of the corresponding feature. If two features have large weights of the same sign (both positive or both negative), then increases in one tend expect to be associated with increases in the other. To contrast, features with different signs can be expected to show a negative correlation: increases in one variable should result in a decrease in the other.\n",
    "\n",
    "- To investigate the features, you should map each weight to their corresponding feature name, then sort the features according to weight. The most interesting features for each principal component, then, will be those at the beginning and end of the sorted list. Use the data dictionary document to help you understand these most prominent features, their relationships, and what a positive or negative value on the principal component might indicate.\n",
    "- You should investigate and interpret feature associations from the first three principal components in this substep. To help facilitate this, you should write a function that you can call at any time to print the sorted list of feature weights, for the *i*-th principal component. This might come in handy in the next step of the project, when you interpret the tendencies of the discovered clusters."
   ]
  },
  {
   "cell_type": "code",
   "execution_count": 226,
   "metadata": {},
   "outputs": [],
   "source": [
    "def weights(pca, comp, data):\n",
    "    dimensions = ['Dimension {}'.format(i) for i in range(1,len(pca.components_)+1)]\n",
    "    components = pd.DataFrame(np.round(pca.components_, 2), columns = data.keys())\n",
    "    components.index=dimensions\n",
    "    weights= components.iloc[comp].sort_values(ascending=False)\n",
    "    return weights\n",
    "   "
   ]
  },
  {
   "cell_type": "code",
   "execution_count": 227,
   "metadata": {},
   "outputs": [
    {
     "data": {
      "text/plain": [
       "LP_STATUS_GROB_1.0     0.19\n",
       "HH_EINKOMMEN_SCORE     0.18\n",
       "PLZ8_ANTG3             0.18\n",
       "PLZ8_BAUMAX            0.17\n",
       "PLZ8_ANTG4             0.17\n",
       "ORTSGR_KLS9            0.15\n",
       "EWDICHTE               0.15\n",
       "FINANZ_HAUSBAUER       0.14\n",
       "FINANZ_SPARER          0.13\n",
       "KBA05_ANTG4            0.13\n",
       "PLZ8_ANTG2             0.12\n",
       "FINANZTYP_1            0.12\n",
       "LP_STATUS_FEIN_1.0     0.12\n",
       "LP_STATUS_FEIN_2.0     0.12\n",
       "ANZ_HAUSHALTE_AKTIV    0.11\n",
       "ARBEIT                 0.11\n",
       "KBA05_ANTG3            0.11\n",
       "CAMEO_DEUG_2015_9      0.11\n",
       "SEMIO_PFLICHT          0.10\n",
       "RELAT_AB               0.10\n",
       "Name: Dimension 1, dtype: float64"
      ]
     },
     "execution_count": 227,
     "metadata": {},
     "output_type": "execute_result"
    }
   ],
   "source": [
    "# Map weights for the first principal component to corresponding feature names\n",
    "# and then print the linked values, sorted by weight.\n",
    "# HINT: Try defining a function here or in a new cell that you can reuse in the\n",
    "# other cells.\n",
    "w1=weights(pca, 0, azdias_no_nans)\n",
    "w1[:20]"
   ]
  },
  {
   "cell_type": "code",
   "execution_count": 228,
   "metadata": {},
   "outputs": [
    {
     "data": {
      "text/plain": [
       "ALTERSKATEGORIE_GROB    0.23\n",
       "FINANZ_VORSORGER        0.21\n",
       "ZABEOTYP_3              0.20\n",
       "SEMIO_ERL               0.18\n",
       "RETOURTYP_BK_S          0.16\n",
       "SEMIO_LUST              0.16\n",
       "W_KEIT_KIND_HH          0.13\n",
       "LP_STATUS_FEIN_1.0      0.11\n",
       "FINANZ_HAUSBAUER        0.10\n",
       "CJT_GESAMTTYP_2.0       0.10\n",
       "FINANZTYP_5             0.09\n",
       "ORTSGR_KLS9             0.08\n",
       "PLZ8_ANTG3              0.08\n",
       "PLZ8_ANTG4              0.08\n",
       "PLZ8_BAUMAX             0.08\n",
       "FINANZTYP_2             0.08\n",
       "EWDICHTE                0.08\n",
       "SEMIO_KRIT              0.08\n",
       "CJT_GESAMTTYP_1.0       0.07\n",
       "LP_FAMILIE_FEIN_1.0     0.07\n",
       "Name: Dimension 2, dtype: float64"
      ]
     },
     "execution_count": 228,
     "metadata": {},
     "output_type": "execute_result"
    }
   ],
   "source": [
    "# Map weights for the second principal component to corresponding feature names\n",
    "# and then print the linked values, sorted by weight.\n",
    "w2=weights(pca, 1, azdias_no_nans)\n",
    "w2[:20]\n"
   ]
  },
  {
   "cell_type": "code",
   "execution_count": 229,
   "metadata": {},
   "outputs": [
    {
     "data": {
      "text/plain": [
       "SEMIO_VERT                     0.32\n",
       "SEMIO_FAM                      0.26\n",
       "SEMIO_SOZ                      0.25\n",
       "SEMIO_KULT                     0.24\n",
       "FINANZTYP_5                    0.14\n",
       "FINANZ_MINIMALIST              0.13\n",
       "SHOPPER_TYP_0.0                0.13\n",
       "SEMIO_REL                      0.12\n",
       "ZABEOTYP_1                     0.12\n",
       "GREEN_AVANTGARDE               0.09\n",
       "PRAEGENDE_JUGENDJAHRE_Movem    0.09\n",
       "RETOURTYP_BK_S                 0.08\n",
       "SEMIO_MAT                      0.08\n",
       "EWDICHTE                       0.07\n",
       "ORTSGR_KLS9                    0.07\n",
       "W_KEIT_KIND_HH                 0.07\n",
       "LP_STATUS_FEIN_10.0            0.06\n",
       "LP_STATUS_GROB_5.0             0.06\n",
       "ZABEOTYP_6                     0.05\n",
       "LP_STATUS_FEIN_3.0             0.05\n",
       "Name: Dimension 3, dtype: float64"
      ]
     },
     "execution_count": 229,
     "metadata": {},
     "output_type": "execute_result"
    }
   ],
   "source": [
    "# Map weights for the third principal component to corresponding feature names\n",
    "# and then print the linked values, sorted by weight.\n",
    "w3=weights(pca, 2, azdias_no_nans)\n",
    "w3[:20]"
   ]
  },
  {
   "cell_type": "markdown",
   "metadata": {},
   "source": [
    "### Discussion 2.3: Interpret Principal Components\n",
    "\n",
    "(Double-click this cell and replace this text with your own text, reporting your observations from detailed investigation of the first few principal components generated. Can we interpret positive and negative values from them in a meaningful way?)"
   ]
  },
  {
   "cell_type": "markdown",
   "metadata": {},
   "source": [
    "## Step 3: Clustering\n",
    "\n",
    "### Step 3.1: Apply Clustering to General Population\n",
    "\n",
    "You've assessed and cleaned the demographics data, then scaled and transformed them. Now, it's time to see how the data clusters in the principal components space. In this substep, you will apply k-means clustering to the dataset and use the average within-cluster distances from each point to their assigned cluster's centroid to decide on a number of clusters to keep.\n",
    "\n",
    "- Use sklearn's [KMeans](http://scikit-learn.org/stable/modules/generated/sklearn.cluster.KMeans.html#sklearn.cluster.KMeans) class to perform k-means clustering on the PCA-transformed data.\n",
    "- Then, compute the average difference from each point to its assigned cluster's center. **Hint**: The KMeans object's `.score()` method might be useful here, but note that in sklearn, scores tend to be defined so that larger is better. Try applying it to a small, toy dataset, or use an internet search to help your understanding.\n",
    "- Perform the above two steps for a number of different cluster counts. You can then see how the average distance decreases with an increasing number of clusters. However, each additional cluster provides a smaller net benefit. Use this fact to select a final number of clusters in which to group the data. **Warning**: because of the large size of the dataset, it can take a long time for the algorithm to resolve. The more clusters to fit, the longer the algorithm will take. You should test for cluster counts through at least 10 clusters to get the full picture, but you shouldn't need to test for a number of clusters above about 30.\n",
    "- Once you've selected a final number of clusters to use, re-fit a KMeans instance to perform the clustering operation. Make sure that you also obtain the cluster assignments for the general demographics data, since you'll be using them in the final Step 3.3."
   ]
  },
  {
   "cell_type": "code",
   "execution_count": 95,
   "metadata": {},
   "outputs": [],
   "source": [
    "from sklearn.cluster import KMeans"
   ]
  },
  {
   "cell_type": "code",
   "execution_count": 96,
   "metadata": {},
   "outputs": [],
   "source": [
    "# Over a number of different cluster counts...\n",
    "def get_kmeans_score(data, clusters):\n",
    "    kmeans = KMeans(n_clusters=clusters)\n",
    "    model = kmeans.fit(data)\n",
    "    score = np.abs(model.score(data))\n",
    "    \n",
    "    return score\n"
   ]
  },
  {
   "cell_type": "code",
   "execution_count": 97,
   "metadata": {},
   "outputs": [
    {
     "data": {
      "image/png": "[encoded data removed]",
      "text/plain": [
       "<matplotlib.figure.Figure at 0x7fd5864b2a58>"
      ]
     },
     "metadata": {},
     "output_type": "display_data"
    }
   ],
   "source": [
    "# Investigate the change in within-cluster distance across number of clusters.\n",
    "# HINT: Use matplotlib's plot function to visualize this relationship.\n",
    "scores = []\n",
    "clusters = list(range(1,20))\n",
    "\n",
    "for cluster in clusters:\n",
    "    scores.append(get_kmeans_score(X_pca, cluster))\n",
    "    \n",
    "plt.figure(figsize=(30, 6))    \n",
    "plt.plot(clusters, scores, linestyle='--', marker='o', color='b');\n",
    "plt.xlabel('K');\n",
    "plt.ylabel('SSE');\n",
    "plt.title('SSE vs. K');\n",
    "\n"
   ]
  },
  {
   "cell_type": "code",
   "execution_count": 230,
   "metadata": {},
   "outputs": [],
   "source": [
    "# Re-fit the k-means model with the selected number of clusters and obtain\n",
    "# cluster predictions for the general population demographics data.\n",
    "def Kmeans_model(centers, data):\n",
    "    kmeans = KMeans(n_clusters=centers)\n",
    "    model = kmeans.fit(data)\n",
    "    return model"
   ]
  },
  {
   "cell_type": "code",
   "execution_count": 231,
   "metadata": {},
   "outputs": [],
   "source": [
    "# number of clusters selected is 10\n",
    "model10=Kmeans_model(10,X_pca)\n"
   ]
  },
  {
   "cell_type": "code",
   "execution_count": 232,
   "metadata": {},
   "outputs": [],
   "source": [
    "\n",
    "clusters=model10.predict(X_pca)"
   ]
  },
  {
   "cell_type": "code",
   "execution_count": 233,
   "metadata": {},
   "outputs": [
    {
     "data": {
      "text/plain": [
       "623211"
      ]
     },
     "execution_count": 233,
     "metadata": {},
     "output_type": "execute_result"
    }
   ],
   "source": [
    "len(clusters)"
   ]
  },
  {
   "cell_type": "code",
   "execution_count": 234,
   "metadata": {},
   "outputs": [
    {
     "name": "stderr",
     "output_type": "stream",
     "text": [
      "/opt/conda/lib/python3.6/site-packages/ipykernel_launcher.py:2: SettingWithCopyWarning: \n",
      "A value is trying to be set on a copy of a slice from a DataFrame.\n",
      "Try using .loc[row_indexer,col_indexer] = value instead\n",
      "\n",
      "See the caveats in the documentation: http://pandas.pydata.org/pandas-docs/stable/indexing.html#indexing-view-versus-copy\n",
      "  \n"
     ]
    }
   ],
   "source": [
    "#add predictions to dataset\n",
    "azdias_no_nans['Cluster']=clusters"
   ]
  },
  {
   "cell_type": "code",
   "execution_count": 235,
   "metadata": {},
   "outputs": [
    {
     "data": {
      "text/html": [
       "<div>\n",
       "<style scoped>\n",
       "    .dataframe tbody tr th:only-of-type {\n",
       "        vertical-align: middle;\n",
       "    }\n",
       "\n",
       "    .dataframe tbody tr th {\n",
       "        vertical-align: top;\n",
       "    }\n",
       "\n",
       "    .dataframe thead th {\n",
       "        text-align: right;\n",
       "    }\n",
       "</style>\n",
       "<table border=\"1\" class=\"dataframe\">\n",
       "  <thead>\n",
       "    <tr style=\"text-align: right;\">\n",
       "      <th></th>\n",
       "      <th>Cluster</th>\n",
       "    </tr>\n",
       "  </thead>\n",
       "  <tbody>\n",
       "    <tr>\n",
       "      <th>0</th>\n",
       "      <td>7.21</td>\n",
       "    </tr>\n",
       "    <tr>\n",
       "      <th>1</th>\n",
       "      <td>9.89</td>\n",
       "    </tr>\n",
       "    <tr>\n",
       "      <th>2</th>\n",
       "      <td>6.29</td>\n",
       "    </tr>\n",
       "    <tr>\n",
       "      <th>3</th>\n",
       "      <td>4.57</td>\n",
       "    </tr>\n",
       "    <tr>\n",
       "      <th>4</th>\n",
       "      <td>12.59</td>\n",
       "    </tr>\n",
       "    <tr>\n",
       "      <th>5</th>\n",
       "      <td>8.94</td>\n",
       "    </tr>\n",
       "    <tr>\n",
       "      <th>6</th>\n",
       "      <td>11.79</td>\n",
       "    </tr>\n",
       "    <tr>\n",
       "      <th>7</th>\n",
       "      <td>12.16</td>\n",
       "    </tr>\n",
       "    <tr>\n",
       "      <th>8</th>\n",
       "      <td>13.77</td>\n",
       "    </tr>\n",
       "    <tr>\n",
       "      <th>9</th>\n",
       "      <td>12.78</td>\n",
       "    </tr>\n",
       "  </tbody>\n",
       "</table>\n",
       "</div>"
      ],
      "text/plain": [
       "   Cluster\n",
       "0     7.21\n",
       "1     9.89\n",
       "2     6.29\n",
       "3     4.57\n",
       "4    12.59\n",
       "5     8.94\n",
       "6    11.79\n",
       "7    12.16\n",
       "8    13.77\n",
       "9    12.78"
      ]
     },
     "execution_count": 235,
     "metadata": {},
     "output_type": "execute_result"
    }
   ],
   "source": [
    "#% of datapoints in each cluster general population\n",
    "cluster_pop_per=round((azdias_no_nans['Cluster'].value_counts(sort = False)/(azdias_no_nans.shape[0])*100),2)\n",
    "cluster_pop_per=cluster_pop_per.to_frame()\n",
    "cluster_pop_per"
   ]
  },
  {
   "cell_type": "markdown",
   "metadata": {},
   "source": [
    "### Discussion 3.1: Apply Clustering to General Population\n",
    "\n",
    "(Double-click this cell and replace this text with your own text, reporting your findings and decisions regarding clustering. Into how many clusters have you decided to segment the population?)"
   ]
  },
  {
   "cell_type": "markdown",
   "metadata": {},
   "source": [
    "### Step 3.2: Apply All Steps to the Customer Data\n",
    "\n",
    "Now that you have clusters and cluster centers for the general population, it's time to see how the customer data maps on to those clusters. Take care to not confuse this for re-fitting all of the models to the customer data. Instead, you're going to use the fits from the general population to clean, transform, and cluster the customer data. In the last step of the project, you will interpret how the general population fits apply to the customer data.\n",
    "\n",
    "- Don't forget when loading in the customers data, that it is semicolon (`;`) delimited.\n",
    "- Apply the same feature wrangling, selection, and engineering steps to the customer demographics using the `clean_data()` function you created earlier. (You can assume that the customer demographics data has similar meaning behind missing data patterns as the general demographics data.)\n",
    "- Use the sklearn objects from the general demographics data, and apply their transformations to the customers data. That is, you should not be using a `.fit()` or `.fit_transform()` method to re-fit the old objects, nor should you be creating new sklearn objects! Carry the data through the feature scaling, PCA, and clustering steps, obtaining cluster assignments for all of the data in the customer demographics data."
   ]
  },
  {
   "cell_type": "code",
   "execution_count": 135,
   "metadata": {},
   "outputs": [],
   "source": [
    "# Load in the customer demographics data.\n",
    "customers = pd.read_csv('Udacity_CUSTOMERS_Subset.csv',sep=';')"
   ]
  },
  {
   "cell_type": "code",
   "execution_count": 136,
   "metadata": {},
   "outputs": [
    {
     "data": {
      "text/plain": [
       "(191652, 85)"
      ]
     },
     "execution_count": 136,
     "metadata": {},
     "output_type": "execute_result"
    }
   ],
   "source": [
    "customers.shape"
   ]
  },
  {
   "cell_type": "code",
   "execution_count": null,
   "metadata": {},
   "outputs": [],
   "source": [
    "# Apply preprocessing, feature transformation, and clustering from the general\n",
    "# demographics onto the customer data, obtaining cluster predictions for the\n",
    "# customer demographics data.\n",
    "\n"
   ]
  },
  {
   "cell_type": "code",
   "execution_count": 276,
   "metadata": {},
   "outputs": [],
   "source": [
    "#preprocessing step with cleaning function\n",
    "customers_clean=clean_data(customers)"
   ]
  },
  {
   "cell_type": "code",
   "execution_count": 277,
   "metadata": {},
   "outputs": [
    {
     "data": {
      "text/plain": [
       "(125178, 149)"
      ]
     },
     "execution_count": 277,
     "metadata": {},
     "output_type": "execute_result"
    }
   ],
   "source": [
    "customers_clean.shape"
   ]
  },
  {
   "cell_type": "code",
   "execution_count": 278,
   "metadata": {},
   "outputs": [
    {
     "data": {
      "text/plain": [
       "REGIOTYP                        6237\n",
       "KKK                             6237\n",
       "W_KEIT_KIND_HH                  1450\n",
       "HEALTH_TYP                      1425\n",
       "VERS_TYP                        1425\n",
       "ARBEIT                           482\n",
       "RELAT_AB                         482\n",
       "ORTSGR_KLS9                      465\n",
       "PRAEGENDE_JUGENDJAHRE_Decade     361\n",
       "PRAEGENDE_JUGENDJAHRE_Movem      361\n",
       "ANZ_HAUSHALTE_AKTIV              336\n",
       "ANZ_HH_TITEL                     205\n",
       "CAMEO_INTL_WEALTH                176\n",
       "CAMEO_INTL_LIFE_STAGE            176\n",
       "ALTERSKATEGORIE_GROB             161\n",
       "KBA13_ANZAHL_PKW                  41\n",
       "EWDICHTE                          22\n",
       "BALLRAUM                          22\n",
       "INNENSTADT                        22\n",
       "KONSUMNAEHE                        5\n",
       "dtype: int64"
      ]
     },
     "execution_count": 278,
     "metadata": {},
     "output_type": "execute_result"
    }
   ],
   "source": [
    "#missing data in customers_clean\n",
    "customers_clean.isna().sum().sort_values(ascending=False)[:20]"
   ]
  },
  {
   "cell_type": "code",
   "execution_count": 279,
   "metadata": {},
   "outputs": [],
   "source": [
    "#drop rows with missing values\n",
    "customers_clean=customers_clean.dropna()\n"
   ]
  },
  {
   "cell_type": "code",
   "execution_count": 280,
   "metadata": {},
   "outputs": [
    {
     "data": {
      "text/plain": [
       "(115643, 149)"
      ]
     },
     "execution_count": 280,
     "metadata": {},
     "output_type": "execute_result"
    }
   ],
   "source": [
    "customers_clean.shape"
   ]
  },
  {
   "cell_type": "code",
   "execution_count": 281,
   "metadata": {},
   "outputs": [],
   "source": [
    "#apply PCA analysis with 30 componets\n",
    "pca_cust,X_pca_cust=do_pca(num_components_fin, customers_stand)"
   ]
  },
  {
   "cell_type": "code",
   "execution_count": 282,
   "metadata": {},
   "outputs": [],
   "source": [
    "#apply clustering to customer dataset\n",
    "model_cust=Kmeans_model(10,X_pca_cust)"
   ]
  },
  {
   "cell_type": "code",
   "execution_count": 283,
   "metadata": {},
   "outputs": [],
   "source": [
    "# predict customer clusters\n",
    "customer_pred=model_cust.predict(X_pca_cust)"
   ]
  },
  {
   "cell_type": "code",
   "execution_count": 284,
   "metadata": {},
   "outputs": [
    {
     "data": {
      "text/plain": [
       "115643"
      ]
     },
     "execution_count": 284,
     "metadata": {},
     "output_type": "execute_result"
    }
   ],
   "source": [
    "len(customer_pred)"
   ]
  },
  {
   "cell_type": "code",
   "execution_count": 285,
   "metadata": {},
   "outputs": [
    {
     "data": {
      "text/plain": [
       "array([7, 9, 6, 0, 4, 2, 1, 3, 8, 5])"
      ]
     },
     "execution_count": 285,
     "metadata": {},
     "output_type": "execute_result"
    }
   ],
   "source": [
    "#add predictios to customer data\n",
    "customers_clean['Cluster']=customer_pred\n",
    "customers_clean['Cluster'].unique()"
   ]
  },
  {
   "cell_type": "markdown",
   "metadata": {},
   "source": [
    "### Step 3.3: Compare Customer Data to Demographics Data\n",
    "\n",
    "At this point, you have clustered data based on demographics of the general population of Germany, and seen how the customer data for a mail-order sales company maps onto those demographic clusters. In this final substep, you will compare the two cluster distributions to see where the strongest customer base for the company is.\n",
    "\n",
    "Consider the proportion of persons in each cluster for the general population, and the proportions for the customers. If we think the company's customer base to be universal, then the cluster assignment proportions should be fairly similar between the two. If there are only particular segments of the population that are interested in the company's products, then we should see a mismatch from one to the other. If there is a higher proportion of persons in a cluster for the customer data compared to the general population (e.g. 5% of persons are assigned to a cluster for the general population, but 15% of the customer data is closest to that cluster's centroid) then that suggests the people in that cluster to be a target audience for the company. On the other hand, the proportion of the data in a cluster being larger in the general population than the customer data (e.g. only 2% of customers closest to a population centroid that captures 6% of the data) suggests that group of persons to be outside of the target demographics.\n",
    "\n",
    "Take a look at the following points in this step:\n",
    "\n",
    "- Compute the proportion of data points in each cluster for the general population and the customer data. Visualizations will be useful here: both for the individual dataset proportions, but also to visualize the ratios in cluster representation between groups. Seaborn's [`countplot()`](https://seaborn.pydata.org/generated/seaborn.countplot.html) or [`barplot()`](https://seaborn.pydata.org/generated/seaborn.barplot.html) function could be handy.\n",
    "  - Recall the analysis you performed in step 1.1.3 of the project, where you separated out certain data points from the dataset if they had more than a specified threshold of missing values. If you found that this group was qualitatively different from the main bulk of the data, you should treat this as an additional data cluster in this analysis. Make sure that you account for the number of data points in this subset, for both the general population and customer datasets, when making your computations!\n",
    "- Which cluster or clusters are overrepresented in the customer dataset compared to the general population? Select at least one such cluster and infer what kind of people might be represented by that cluster. Use the principal component interpretations from step 2.3 or look at additional components to help you make this inference. Alternatively, you can use the `.inverse_transform()` method of the PCA and StandardScaler objects to transform centroids back to the original data space and interpret the retrieved values directly.\n",
    "- Perform a similar investigation for the underrepresented clusters. Which cluster or clusters are underrepresented in the customer dataset compared to the general population, and what kinds of people are typified by these clusters?"
   ]
  },
  {
   "cell_type": "code",
   "execution_count": 242,
   "metadata": {},
   "outputs": [
    {
     "data": {
      "text/html": [
       "<div>\n",
       "<style scoped>\n",
       "    .dataframe tbody tr th:only-of-type {\n",
       "        vertical-align: middle;\n",
       "    }\n",
       "\n",
       "    .dataframe tbody tr th {\n",
       "        vertical-align: top;\n",
       "    }\n",
       "\n",
       "    .dataframe thead th {\n",
       "        text-align: right;\n",
       "    }\n",
       "</style>\n",
       "<table border=\"1\" class=\"dataframe\">\n",
       "  <thead>\n",
       "    <tr style=\"text-align: right;\">\n",
       "      <th></th>\n",
       "      <th>population</th>\n",
       "      <th>customers</th>\n",
       "    </tr>\n",
       "  </thead>\n",
       "  <tbody>\n",
       "    <tr>\n",
       "      <th>0</th>\n",
       "      <td>7.21</td>\n",
       "      <td>12.06</td>\n",
       "    </tr>\n",
       "    <tr>\n",
       "      <th>1</th>\n",
       "      <td>9.89</td>\n",
       "      <td>4.30</td>\n",
       "    </tr>\n",
       "    <tr>\n",
       "      <th>2</th>\n",
       "      <td>6.29</td>\n",
       "      <td>13.14</td>\n",
       "    </tr>\n",
       "    <tr>\n",
       "      <th>3</th>\n",
       "      <td>4.57</td>\n",
       "      <td>5.68</td>\n",
       "    </tr>\n",
       "    <tr>\n",
       "      <th>4</th>\n",
       "      <td>12.59</td>\n",
       "      <td>10.18</td>\n",
       "    </tr>\n",
       "    <tr>\n",
       "      <th>5</th>\n",
       "      <td>8.94</td>\n",
       "      <td>15.16</td>\n",
       "    </tr>\n",
       "    <tr>\n",
       "      <th>6</th>\n",
       "      <td>11.79</td>\n",
       "      <td>12.21</td>\n",
       "    </tr>\n",
       "    <tr>\n",
       "      <th>7</th>\n",
       "      <td>12.16</td>\n",
       "      <td>17.64</td>\n",
       "    </tr>\n",
       "    <tr>\n",
       "      <th>8</th>\n",
       "      <td>13.77</td>\n",
       "      <td>2.99</td>\n",
       "    </tr>\n",
       "    <tr>\n",
       "      <th>9</th>\n",
       "      <td>12.78</td>\n",
       "      <td>6.63</td>\n",
       "    </tr>\n",
       "  </tbody>\n",
       "</table>\n",
       "</div>"
      ],
      "text/plain": [
       "   population  customers\n",
       "0        7.21      12.06\n",
       "1        9.89       4.30\n",
       "2        6.29      13.14\n",
       "3        4.57       5.68\n",
       "4       12.59      10.18\n",
       "5        8.94      15.16\n",
       "6       11.79      12.21\n",
       "7       12.16      17.64\n",
       "8       13.77       2.99\n",
       "9       12.78       6.63"
      ]
     },
     "execution_count": 242,
     "metadata": {},
     "output_type": "execute_result"
    }
   ],
   "source": [
    "# Compare the proportion of data in each cluster for the customer data to the\n",
    "# proportion of data in each cluster for the general population.\n",
    "#percentage of data assigned to each cluster\n",
    "cluster_cust_per=round((customers_clean['Cluster'].value_counts(sort = False)/(customers_clean.shape[0])*100),2)\n",
    "cluster_cust_per=cluster_cust_per.to_frame()\n",
    "comparison=pd.merge(cluster_pop_per, cluster_cust_per, left_index=True, right_index=True)\n",
    "comparison.columns = ['population','customers']\n",
    "comparison\n"
   ]
  },
  {
   "cell_type": "code",
   "execution_count": 243,
   "metadata": {},
   "outputs": [
    {
     "data": {
      "text/plain": [
       "Text(0.5,0,'%')"
      ]
     },
     "execution_count": 243,
     "metadata": {},
     "output_type": "execute_result"
    },
    {
     "data": {
      "image/png": "[encoded data removed]",
      "text/plain": [
       "<matplotlib.figure.Figure at 0x7fd586587f60>"
      ]
     },
     "metadata": {},
     "output_type": "display_data"
    }
   ],
   "source": [
    "plt.figure(figsize=(20,5))\n",
    "\n",
    "plt.subplot(1,2,1)\n",
    "plt.barh(comparison.index,comparison['population'])\n",
    "plt.title('Cluster % Population')\n",
    "plt.xticks(np.arange(0,20,1.5),rotation=90)\n",
    "plt.yticks(np.arange(0,10,1))\n",
    "plt.ylabel('Clusters')\n",
    "plt.xlabel('%')\n",
    "\n",
    "plt.subplot(1,2,2)\n",
    "plt.barh(comparison.index,comparison['customers'])\n",
    "plt.xticks(np.arange(0,20,1.5),rotation=90)\n",
    "plt.yticks(np.arange(0,10,1))\n",
    "plt.title('Cluster % Customers')\n",
    "plt.ylabel('Clusters')\n",
    "plt.xlabel('%')\n"
   ]
  },
  {
   "cell_type": "code",
   "execution_count": null,
   "metadata": {},
   "outputs": [],
   "source": [
    "# What kinds of people are part of a cluster that is overrepresented in the\n",
    "# customer data compared to the general population?\n"
   ]
  },
  {
   "cell_type": "code",
   "execution_count": 286,
   "metadata": {},
   "outputs": [],
   "source": [
    "#temp\n",
    "cluster_centroid= scaler.inverse_transform(pca_cust.inverse_transform(model_cust.cluster_centers_))"
   ]
  },
  {
   "cell_type": "code",
   "execution_count": 319,
   "metadata": {},
   "outputs": [
    {
     "data": {
      "text/plain": [
       "array([[  2.87229402e-01,  -6.58908312e-01,   6.89682159e-01,\n",
       "         -3.73067073e-01,   3.05422350e-01,  -5.60624517e-01,\n",
       "         -7.46537261e-02,  -4.27541774e-01,   8.86073147e-01,\n",
       "         -2.39727729e-01,   2.39795130e-01,   3.90388666e-01,\n",
       "          3.68231958e-01,   2.75893397e-01,   2.21843582e-01,\n",
       "          6.58297452e-01,   2.70732914e-01,  -4.86531082e-01,\n",
       "          4.66699275e-01,  -4.12395967e-01,  -4.61735512e-01,\n",
       "         -5.65364250e-01,  -7.22245424e-01,  -1.76715665e-01,\n",
       "         -3.25107595e-03,  -3.11472238e-02,  -3.28449280e-01,\n",
       "         -6.03739505e-01,  -2.18158595e-01,  -7.10925098e-01,\n",
       "          7.18215657e-01,   3.21532952e-02,  -2.63175259e-01,\n",
       "         -1.74959199e-01,   1.35606846e-01,  -1.20971370e-02,\n",
       "          1.28499014e-01,  -3.51427806e-01,   5.10629386e-01,\n",
       "         -1.46120726e-01,  -3.46556160e-01,  -2.81815236e-01,\n",
       "          3.93333034e-01,  -7.22287843e-02,   1.17938119e-01,\n",
       "         -4.74168224e-02,   2.79482073e-01,  -3.49775041e-01,\n",
       "          4.50780476e-01,  -1.79443160e-01,  -3.43445587e-01,\n",
       "          7.80572568e-02,   2.87191192e-01,  -1.37905694e-01,\n",
       "         -1.57557799e-01,  -1.89631640e-01,  -3.15968187e-01,\n",
       "          7.01549499e-02,   2.44209182e-01,   1.16259849e-01,\n",
       "          1.30488345e-01,   6.33957688e-02,   8.86073147e-01,\n",
       "         -4.27832973e-01,   3.63884551e-01,   2.59255790e-01,\n",
       "          1.06160010e-01,   6.29405220e-02,  -1.10131814e-01,\n",
       "          7.40931753e-02,  -8.25035676e-02,  -1.11231927e-01,\n",
       "         -2.39852133e-01,   4.23965495e-03,  -4.38621481e-02,\n",
       "         -8.17635969e-02,   4.00802551e-01,  -3.04286541e-01,\n",
       "         -1.31900819e-01,  -1.56805529e-01,   7.86107727e-02,\n",
       "          6.85794207e-02,  -2.71632177e-03,  -2.99895639e-02,\n",
       "          3.19827344e-01,   5.82655667e-02,  -1.87662711e-01,\n",
       "         -4.36351764e-02,  -1.58501788e-01,  -6.52724687e-02,\n",
       "          2.57629327e-01,   8.83125362e-01,  -4.14641863e-02,\n",
       "         -3.88654853e-02,  -4.96555090e-02,  -7.87031032e-02,\n",
       "         -1.12489802e-01,  -1.33792539e-01,  -1.16054621e-01,\n",
       "         -6.17760821e-01,  -3.76193007e-01,   2.57629327e-01,\n",
       "          8.83125362e-01,  -7.30357480e-02,  -1.92868173e-01,\n",
       "         -8.58103335e-01,  -3.18498202e-01,  -9.86065776e-02,\n",
       "         -2.26343290e-01,  -1.81427535e-01,  -1.26630362e-01,\n",
       "         -2.28586313e-01,  -2.45574137e-01,   1.11389552e-03,\n",
       "         -4.79775334e-01,   1.08524371e+00,  -3.35517160e-01,\n",
       "         -3.15901264e-01,  -3.45281303e-01,  -4.77286361e-01,\n",
       "          1.08524371e+00,   8.83472881e-02,  -6.52860111e-02,\n",
       "         -5.92255294e-02,   3.41612472e-01,  -2.24828645e-01,\n",
       "         -2.18474543e-01,   6.99262058e-02,   4.71873015e-01,\n",
       "         -5.03317122e-02,  -1.81317712e-01,  -3.75432903e-01,\n",
       "         -4.67097016e-02,  -5.66116621e-02,   3.85424209e-01,\n",
       "          0.00000000e+00,  -3.34555950e-01,   0.00000000e+00,\n",
       "          0.00000000e+00,  -1.52370716e-01,   2.18197258e-01,\n",
       "          2.60149257e-01,  -5.05790997e-02,   2.56283133e-03,\n",
       "         -9.89420625e-02,  -4.09479474e-02,  -1.18827870e-01,\n",
       "         -1.77141601e-01,  -1.36076334e-01],\n",
       "       [  8.48590852e-02,  -2.76735207e-01,   5.55319279e-01,\n",
       "         -2.17627718e-01,   2.00359493e-01,   1.39085911e-01,\n",
       "         -2.79028018e-01,  -4.05875518e-01,  -1.08695409e+00,\n",
       "          1.00159332e-01,  -1.47722567e-01,  -7.89321748e-03,\n",
       "          1.67911158e-01,   1.51808676e-01,  -1.90776236e-01,\n",
       "          1.55834963e-01,  -9.76852163e-02,  -1.98019258e-02,\n",
       "          2.20720723e-01,  -5.32714314e-02,  -2.04899141e-01,\n",
       "         -3.80446503e-01,  -2.50494243e-01,  -5.61596106e-02,\n",
       "         -7.81926830e-03,  -9.57681513e-03,  -9.82595241e-02,\n",
       "          1.36402367e-01,  -1.66010338e-01,   1.74374510e-01,\n",
       "         -5.12721121e-02,   1.04247503e-01,  -2.50859925e-01,\n",
       "         -1.48031371e-01,   4.91085737e-01,   9.88939497e-02,\n",
       "          8.28844451e-02,   8.95897144e-01,   4.10609785e-01,\n",
       "         -1.56071633e-01,  -3.83228333e-01,  -2.87442656e-01,\n",
       "          4.89215583e-01,   6.04145817e-01,  -9.21038777e-01,\n",
       "          6.35296935e-01,   3.19290357e-01,   5.43745626e-01,\n",
       "          5.15492623e-01,   3.12245564e-03,   3.63823108e-01,\n",
       "          1.26048901e-01,   4.80122910e-01,  -5.28672842e-01,\n",
       "         -6.64725353e-01,  -5.51827488e-01,  -4.30476348e-01,\n",
       "         -2.47581483e-01,   2.77788820e-01,  -5.62713815e-01,\n",
       "         -9.30109486e-01,  -5.06939863e-01,  -1.08695409e+00,\n",
       "         -8.84005899e-02,   1.56843951e-01,  -6.69903736e-02,\n",
       "         -4.50701692e-02,   1.67863789e-01,   7.36375409e-02,\n",
       "         -1.65381632e-01,   8.87281996e-02,  -2.09958777e-01,\n",
       "         -2.33028699e-01,   3.24782402e-01,  -4.46805325e-02,\n",
       "         -9.79084693e-02,  -4.54718386e-01,   2.63782869e-01,\n",
       "          1.83978224e-01,  -6.95081330e-02,  -1.16699479e-01,\n",
       "          3.42599621e-02,  -7.96499048e-02,   2.92713024e-01,\n",
       "          1.48125247e-01,  -2.28060628e-01,   1.97825626e-03,\n",
       "         -2.35189277e-02,   2.89072494e-05,  -1.53310709e-02,\n",
       "         -8.64318105e-02,   3.82132145e-02,  -5.05539948e-02,\n",
       "         -4.24497918e-02,  -6.51801363e-02,  -6.16927927e-02,\n",
       "         -1.18245939e-01,  -1.55724555e-01,   2.44889248e-02,\n",
       "          5.28784880e-02,   1.38564389e-01,  -8.64318105e-02,\n",
       "          3.82132145e-02,  -8.96843675e-02,  -2.07899929e-01,\n",
       "          1.56172774e-01,  -3.33884850e-01,  -9.71519605e-02,\n",
       "         -2.43669900e-01,  -8.29585203e-02,  -9.07842412e-02,\n",
       "         -1.78685619e-01,  -2.33361354e-01,   1.27246145e-01,\n",
       "          1.73561136e+00,  -8.03124680e-01,  -3.50196827e-01,\n",
       "         -2.73792998e-01,  -3.03293872e-01,   1.74348841e+00,\n",
       "         -8.03124680e-01,   3.60236526e-02,  -2.09258433e-02,\n",
       "         -3.16606775e-02,   2.02837822e-01,  -8.35224128e-02,\n",
       "          2.95610195e-02,  -1.27484104e-01,   1.40536796e-01,\n",
       "         -1.93404675e-01,  -4.65065523e-02,   6.74586556e-02,\n",
       "         -7.57389710e-02,  -1.21278669e-01,   3.45804194e-01,\n",
       "          0.00000000e+00,  -3.13422842e-01,   0.00000000e+00,\n",
       "          0.00000000e+00,  -1.22897058e-01,  -2.49886269e-01,\n",
       "          5.15978628e-03,   2.40760043e-01,   3.20687923e-01,\n",
       "          2.08351365e-03,  -4.54518920e-02,  -7.00965293e-02,\n",
       "         -1.88302584e-01,  -1.32397853e-01],\n",
       "       [  2.39995460e-01,   1.33523013e+00,   2.91220573e-02,\n",
       "         -3.13418617e-01,   2.57659870e-01,   7.36623996e-02,\n",
       "         -1.41557163e-01,   1.19144666e-01,   4.14095450e-01,\n",
       "         -4.77274465e-02,  -2.21259081e-01,  -8.42892631e-01,\n",
       "         -1.14709285e+00,  -1.01290967e+00,  -5.52396462e-01,\n",
       "         -1.13318893e+00,   1.42322676e-01,   1.03966814e+00,\n",
       "         -1.26887373e+00,   2.07413716e-01,   1.10042285e+00,\n",
       "          1.00050557e+00,   1.22355101e+00,  -2.24077195e-01,\n",
       "         -4.41969922e-01,   2.45177740e-02,   2.25050331e-01,\n",
       "         -1.31969826e-01,  -5.65394467e-02,  -3.42295043e-01,\n",
       "          1.71145183e-01,   7.83759261e-02,  -2.41645022e-01,\n",
       "         -1.06769823e-01,   1.37042470e-01,  -2.92845833e-03,\n",
       "          7.20125151e-02,  -9.98957074e-02,   3.71471182e-01,\n",
       "         -3.69499192e-03,  -2.77911790e-01,  -3.01797103e-01,\n",
       "          3.48305580e-01,   1.05406880e-01,  -1.16086021e-01,\n",
       "          1.41428868e-01,   1.74100476e-01,  -1.03210828e-01,\n",
       "          3.84246901e-01,  -1.25452269e-01,  -1.25647588e-01,\n",
       "          8.59098848e-02,   2.49296070e-01,  -1.24988352e-01,\n",
       "         -2.16351825e-01,  -2.42937571e-01,  -2.90501185e-01,\n",
       "          1.29277122e-02,   2.27078547e-01,  -5.25274734e-02,\n",
       "         -9.09315269e-02,  -7.23820326e-02,   4.14095450e-01,\n",
       "         -2.17056417e-01,   2.82467604e-01,   2.04827348e-01,\n",
       "         -9.58708999e-02,   4.73738039e-01,  -3.21424969e-01,\n",
       "         -8.99694346e-04,  -1.07772128e-01,  -9.77527815e-02,\n",
       "         -7.75332106e-02,   5.21685698e-01,  -9.55458499e-02,\n",
       "         -1.19932174e-01,  -4.36480217e-01,   1.91275781e-02,\n",
       "         -7.50436492e-02,  -8.93788925e-02,   2.54294720e-02,\n",
       "         -3.14857005e-02,   2.29249213e-02,  -8.44827756e-03,\n",
       "          2.18201893e-01,   3.92525433e-02,  -1.02610418e-01,\n",
       "         -1.66107668e-02,  -7.92055216e-02,  -3.64346426e-02,\n",
       "          1.39627035e-01,  -5.40919795e-02,  -4.88546616e-02,\n",
       "         -2.75015870e-02,  -7.39090742e-02,  -6.08528816e-02,\n",
       "         -9.28513874e-02,  -1.78587431e-01,   3.18362159e-02,\n",
       "          9.36614304e-02,  -8.77507472e-02,   1.39627035e-01,\n",
       "         -5.40919795e-02,  -8.70654928e-02,  -2.10798140e-01,\n",
       "          2.64657149e-02,  -3.20234725e-01,  -4.04396679e-02,\n",
       "         -9.54993002e-02,   9.75108230e-02,  -6.05980659e-02,\n",
       "         -1.18070965e-02,  -1.42747782e-01,   4.83156038e-03,\n",
       "         -1.93301269e-01,   4.99392696e-01,  -3.22910214e-01,\n",
       "         -4.61173895e-02,  -1.22736210e-01,  -1.91734872e-01,\n",
       "          4.99392696e-01,   6.24448640e-03,  -5.20937325e-02,\n",
       "          5.84415814e-02,  -4.34839261e-01,   2.02575578e-01,\n",
       "          3.51695774e-02,   1.75450152e-01,  -3.75610928e-01,\n",
       "          2.48131849e-01,   4.65799729e-01,  -1.29973671e-01,\n",
       "         -1.19889502e-01,  -2.64645729e-01,   2.13516781e-01,\n",
       "          0.00000000e+00,  -1.77922097e-01,   0.00000000e+00,\n",
       "          0.00000000e+00,  -9.21339983e-02,   1.04278474e-01,\n",
       "          1.51240673e-01,   5.57945098e-02,   3.64138142e-02,\n",
       "         -1.38139943e-02,  -2.66133826e-02,  -1.03786876e-01,\n",
       "         -1.80395916e-01,  -1.40731082e-01]])"
      ]
     },
     "execution_count": 319,
     "metadata": {},
     "output_type": "execute_result"
    }
   ],
   "source": [
    "cluster_centroid[7:,]"
   ]
  },
  {
   "cell_type": "code",
   "execution_count": null,
   "metadata": {},
   "outputs": [],
   "source": []
  },
  {
   "cell_type": "code",
   "execution_count": 303,
   "metadata": {},
   "outputs": [
    {
     "data": {
      "text/plain": [
       "2"
      ]
     },
     "execution_count": 303,
     "metadata": {},
     "output_type": "execute_result"
    }
   ],
   "source": []
  },
  {
   "cell_type": "code",
   "execution_count": null,
   "metadata": {},
   "outputs": [],
   "source": [
    "# What kinds of people are part of a cluster that is underrepresented in the\n",
    "# customer data compared to the general population?\n",
    "\n"
   ]
  },
  {
   "cell_type": "markdown",
   "metadata": {},
   "source": [
    "### Discussion 3.3: Compare Customer Data to Demographics Data\n",
    "\n",
    "(Double-click this cell and replace this text with your own text, reporting findings and conclusions from the clustering analysis. Can we describe segments of the population that are relatively popular with the mail-order company, or relatively unpopular with the company?)"
   ]
  },
  {
   "cell_type": "markdown",
   "metadata": {},
   "source": [
    "> Congratulations on making it this far in the project! Before you finish, make sure to check through the entire notebook from top to bottom to make sure that your analysis follows a logical flow and all of your findings are documented in **Discussion** cells. Once you've checked over all of your work, you should export the notebook as an HTML document to submit for evaluation. You can do this from the menu, navigating to **File -> Download as -> HTML (.html)**. You will submit both that document and this notebook for your project submission."
   ]
  },
  {
   "cell_type": "code",
   "execution_count": null,
   "metadata": {},
   "outputs": [],
   "source": []
  }
 ],
 "metadata": {
  "kernelspec": {
   "display_name": "Python 3",
   "language": "python",
   "name": "python3"
  },
  "language_info": {
   "codemirror_mode": {
    "name": "ipython",
    "version": 3
   },
   "file_extension": ".py",
   "mimetype": "text/x-python",
   "name": "python",
   "nbconvert_exporter": "python",
   "pygments_lexer": "ipython3",
   "version": "3.6.3"
  }
 },
 "nbformat": 4,
 "nbformat_minor": 2
}
